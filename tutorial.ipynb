{
 "cells": [
  {
   "cell_type": "code",
   "execution_count": 52,
   "metadata": {},
   "outputs": [
    {
     "ename": "ModuleNotFoundError",
     "evalue": "No module named 'quantumml.descriptors'",
     "output_type": "error",
     "traceback": [
      "\u001b[0;31m---------------------------------------------------------------------------\u001b[0m",
      "\u001b[0;31mModuleNotFoundError\u001b[0m                       Traceback (most recent call last)",
      "\u001b[0;32m<ipython-input-52-a34f2290bcab>\u001b[0m in \u001b[0;36m<module>\u001b[0;34m\u001b[0m\n\u001b[1;32m      2\u001b[0m \u001b[0;32mfrom\u001b[0m \u001b[0mpymatgen\u001b[0m \u001b[0;32mimport\u001b[0m \u001b[0mStructure\u001b[0m\u001b[0;34m\u001b[0m\u001b[0;34m\u001b[0m\u001b[0m\n\u001b[1;32m      3\u001b[0m \u001b[0;32mimport\u001b[0m \u001b[0mjson\u001b[0m\u001b[0;34m\u001b[0m\u001b[0;34m\u001b[0m\u001b[0m\n\u001b[0;32m----> 4\u001b[0;31m \u001b[0;32mfrom\u001b[0m \u001b[0mquantumml\u001b[0m\u001b[0;34m.\u001b[0m\u001b[0mdescriptors\u001b[0m \u001b[0;32mimport\u001b[0m \u001b[0mget_soap\u001b[0m\u001b[0;34m\u001b[0m\u001b[0;34m\u001b[0m\u001b[0m\n\u001b[0m\u001b[1;32m      5\u001b[0m \u001b[0;32mfrom\u001b[0m \u001b[0mquantumml\u001b[0m\u001b[0;34m.\u001b[0m\u001b[0mmlModels\u001b[0m \u001b[0;32mimport\u001b[0m \u001b[0mget_ml_model\u001b[0m\u001b[0;34m\u001b[0m\u001b[0;34m\u001b[0m\u001b[0m\n",
      "\u001b[0;31mModuleNotFoundError\u001b[0m: No module named 'quantumml.descriptors'"
     ]
    }
   ],
   "source": [
    "from quantumml.rest import MWRester\n",
    "from pymatgen import Structure\n",
    "import json\n",
    "from quantumml.descriptors import get_soap\n",
    "from quantumml.mlModels import get_ml_model"
   ]
  },
  {
   "cell_type": "markdown",
   "metadata": {},
   "source": [
    "# Machine Learning"
   ]
  },
  {
   "cell_type": "code",
   "execution_count": 49,
   "metadata": {},
   "outputs": [],
   "source": [
    "from pymatgen import MPRester\n",
    "from pymatgen.analysis.phase_diagram import PhaseDiagram, PDPlotter\n",
    "import os\n",
    "from pymatgen.io.vasp import inputs\n",
    "os.mkdir('mldir')\n",
    "os.chdir('mldir')\n",
    "a = MPRester('7JGUQgNZyOTTp8Tc')\n",
    "entries = a.query('Cd-Te',properties = ['structure','formation_energy_per_atom'])\n",
    "#entries = a.query('Cd-Te',properties = ['formation_energy_per_atom'])\n",
    "formation_e_actual=[]\n",
    "i= 0 \n",
    "for d in entries:\n",
    "    d['structure'].to(fmt='poscar',filename=str(i)+'.poscar')\n",
    "    formation_e_actual.append(d['formation_energy_per_atom'])\n",
    "    i = i +1 "
   ]
  },
  {
   "cell_type": "code",
   "execution_count": 51,
   "metadata": {},
   "outputs": [
    {
     "ename": "NameError",
     "evalue": "name 'get_ml_model' is not defined",
     "output_type": "error",
     "traceback": [
      "\u001b[0;31m---------------------------------------------------------------------------\u001b[0m",
      "\u001b[0;31mNameError\u001b[0m                                 Traceback (most recent call last)",
      "\u001b[0;32m<ipython-input-51-31f82e5851d6>\u001b[0m in \u001b[0;36m<module>\u001b[0;34m\u001b[0m\n\u001b[1;32m      1\u001b[0m \u001b[0mformation_e_predict\u001b[0m\u001b[0;34m=\u001b[0m\u001b[0;34m[\u001b[0m\u001b[0;34m]\u001b[0m\u001b[0;34m\u001b[0m\u001b[0;34m\u001b[0m\u001b[0m\n\u001b[0;32m----> 2\u001b[0;31m \u001b[0mmodel\u001b[0m\u001b[0;34m=\u001b[0m \u001b[0mget_ml_model\u001b[0m\u001b[0;34m(\u001b[0m\u001b[0;34m'Cd-Te2'\u001b[0m\u001b[0;34m)\u001b[0m\u001b[0;34m\u001b[0m\u001b[0;34m\u001b[0m\u001b[0m\n\u001b[0m\u001b[1;32m      3\u001b[0m \u001b[0;32mfor\u001b[0m \u001b[0mi\u001b[0m \u001b[0;32min\u001b[0m \u001b[0mrange\u001b[0m\u001b[0;34m(\u001b[0m\u001b[0;36m0\u001b[0m\u001b[0;34m,\u001b[0m\u001b[0;36m10\u001b[0m\u001b[0;34m)\u001b[0m\u001b[0;34m:\u001b[0m\u001b[0;34m\u001b[0m\u001b[0;34m\u001b[0m\u001b[0m\n\u001b[1;32m      4\u001b[0m     \u001b[0mformation_e_predict\u001b[0m\u001b[0;34m.\u001b[0m\u001b[0mappend\u001b[0m\u001b[0;34m(\u001b[0m\u001b[0mmodel\u001b[0m\u001b[0;34m.\u001b[0m\u001b[0mpredict\u001b[0m\u001b[0;34m(\u001b[0m\u001b[0mget_soap\u001b[0m\u001b[0;34m(\u001b[0m\u001b[0;34m'./'\u001b[0m\u001b[0;34m+\u001b[0m\u001b[0mstr\u001b[0m\u001b[0;34m(\u001b[0m\u001b[0mi\u001b[0m\u001b[0;34m)\u001b[0m\u001b[0;34m+\u001b[0m\u001b[0;34m'.poscar'\u001b[0m\u001b[0;34m)\u001b[0m\u001b[0;34m)\u001b[0m\u001b[0;34m[\u001b[0m\u001b[0;36m0\u001b[0m\u001b[0;34m]\u001b[0m\u001b[0;34m)\u001b[0m\u001b[0;34m\u001b[0m\u001b[0;34m\u001b[0m\u001b[0m\n",
      "\u001b[0;31mNameError\u001b[0m: name 'get_ml_model' is not defined"
     ]
    }
   ],
   "source": [
    "formation_e_predict=[]\n",
    "model= get_ml_model('Cd-Te2')\n",
    "for i in range(0,10):\n",
    "    formation_e_predict.append(model.predict(get_soap('./'+str(i)+'.poscar'))[0])"
   ]
  },
  {
   "cell_type": "markdown",
   "metadata": {},
   "source": [
    "# Queries\n",
    "\n",
    "This shows an example of how to utilize the MWRester class to access materialsweb calculations\n",
    "- **band_gap_range**  \n",
    "Range of bandgaps in *eV* as a two valued list eg. [1.2, 3.1]  \n",
    "- **Formation_energy_range**  \n",
    "Range of formation energies in *meV* as two values list eg. [50, 150]\n",
    "- **elements**  \n",
    "List of elements contained in entry eg. ['Na', 'Cl']  \n",
    "note: this will return all entries that contain Na and Cl as well as any other element \n",
    "- **space_group_number**  \n",
    "integer of space group number eg. 5\n",
    "- **dimention**  \n",
    "integer of dimension of material eg. 2\n",
    "- **crystal_system**  \n",
    "crystal system as a string eg. 'Tetragonal'  \n"
   ]
  },
  {
   "cell_type": "code",
   "execution_count": 45,
   "metadata": {},
   "outputs": [
    {
     "name": "stdout",
     "output_type": "stream",
     "text": [
      "Full Formula (Cu1 Te1 O4)\n",
      "Reduced Formula: CuTeO4\n",
      "abc   :   2.996064   6.078667  22.548377\n",
      "angles:  93.195975  90.000000  90.000000\n",
      "Sites (6)\n",
      "  #  SP      a         b         c\n",
      "---  ----  ---  --------  --------\n",
      "  0  Cu    0    0         0.056509\n",
      "  1  Te    0.5  0.5       0.056509\n",
      "  2  O     0.5  0.814202  0.078196\n",
      "  3  O     0.5  0.185798  0.034822\n",
      "  4  O     0    0.457734  0.112871\n",
      "  5  O     0    0.542266  0.000147\n",
      "Full Formula (La4 C2 Cl5)\n",
      "Reduced Formula: La4C2Cl5\n",
      "abc   :   3.979734   7.976692  26.022557\n",
      "angles:  89.992903  89.999698  89.998247\n",
      "Sites (11)\n",
      "  #  SP           a         b         c\n",
      "---  ----  --------  --------  --------\n",
      "  0  La    0.99999   0.99998   0\n",
      "  1  La    0.500012  0.213028  0.115718\n",
      "  2  La    0.499988  0.786972  0.115718\n",
      "  3  La    1e-05     2e-05     0.231436\n",
      "  4  C     0.999917  0.999935  0.088386\n",
      "  5  C     8.3e-05   6.5e-05   0.14305\n",
      "  6  Cl    0.499996  0.272206  0.002774\n",
      "  7  Cl    0.49998   0.727766  0.00277\n",
      "  8  Cl    0         0.5       0.115718\n",
      "  9  Cl    0.50002   0.272234  0.228666\n",
      " 10  Cl    0.500004  0.727794  0.228662\n",
      "Full Formula (Mn1 Au1 O2)\n",
      "Reduced Formula: MnAuO2\n",
      "abc   :   2.872074   6.362885  20.586753\n",
      "angles:  93.769243  90.000000  90.000000\n",
      "Sites (4)\n",
      "  #  SP      a         b         c\n",
      "---  ----  ---  --------  --------\n",
      "  0  Mn    0.5  0.527048  0.027048\n",
      "  1  Au    0    0.027048  0.027048\n",
      "  2  O     0    0.338355  0.008253\n",
      "  3  O     0    0.71574   0.045842\n",
      "Full Formula (Cd2 Bi2 Se4 I2)\n",
      "Reduced Formula: CdBiSe2I\n",
      "abc   :   4.120303  10.691057  25.975493\n",
      "angles:  88.221985  90.000000  90.000000\n",
      "Sites (10)\n",
      "  #  SP      a         b          c\n",
      "---  ----  ---  --------  ---------\n",
      "  0  Cd    0    0.5        0.884988\n",
      "  1  Cd    0    0          0.884988\n",
      "  2  Bi    0.5  0.319661  -0.005079\n",
      "  3  Bi    0.5  0.680339   0.775055\n",
      "  4  Se    0.5  0.554864   0.961525\n",
      "  5  Se    0.5  0.445136   0.808451\n",
      "  6  Se    0    0.251899   0.929997\n",
      "  7  Se    0    0.748101   0.839979\n",
      "  8  I     0.5  0.078121   0.809919\n",
      "  9  I     0.5  0.921879   0.960057\n",
      "Full Formula (Os1 Cl2 O1)\n",
      "Reduced Formula: OsCl2O\n",
      "abc   :   3.630733   3.722344  23.168495\n",
      "angles:  89.964413  90.000000  90.000000\n",
      "Sites (4)\n",
      "  #  SP      a         b         c\n",
      "---  ----  ---  --------  --------\n",
      "  0  Os    0    0         0.06838\n",
      "  1  Cl    0.5  0.999796  0\n",
      "  2  Cl    0.5  0.000204  0.136758\n",
      "  3  O     0    0.5       0.06838\n",
      "Full Formula (Au2 Se2)\n",
      "Reduced Formula: AuSe\n",
      "abc   :   3.748245   6.448553  22.535743\n",
      "angles:  95.767136  90.000000  90.000000\n",
      "Sites (4)\n",
      "  #  SP      a         b         c\n",
      "---  ----  ---  --------  --------\n",
      "  0  Au    0.5  0.5       0.05626\n",
      "  1  Au    0    0         0.05626\n",
      "  2  Se    0    0.344418  0.112521\n",
      "  3  Se    0    0.655582  0\n",
      "Full Formula (Ca1 Pb1 I4)\n",
      "Reduced Formula: CaPbI4\n",
      "abc   :   4.552049   7.896952  23.654206\n",
      "angles:  89.830491  90.000000  90.000000\n",
      "Sites (6)\n",
      "  #  SP      a         b         c\n",
      "---  ----  ---  --------  --------\n",
      "  0  Ca    0.5  0.5       0.922757\n",
      "  1  Pb    0    0         0.922757\n",
      "  2  I     0    0.341184  0.998361\n",
      "  3  I     0.5  0.82362   0.000718\n",
      "  4  I     0.5  0.17638   0.844796\n",
      "  5  I     0    0.658816  0.847153\n",
      "Full Formula (Sn1 F4)\n",
      "Reduced Formula: SnF4\n",
      "abc   :   4.146795   4.146786  23.818259\n",
      "angles:  90.000000  89.959820  90.000000\n",
      "Sites (5)\n",
      "  #  SP           a    b         c\n",
      "---  ----  --------  ---  --------\n",
      "  0  Sn    0         0    0.080154\n",
      "  1  F     0.000355  0    0.159921\n",
      "  2  F     0.5       0    0.080154\n",
      "  3  F     0         0.5  0.080154\n",
      "  4  F     0.999645  0    0.000387\n",
      "Full Formula (Co1 Te1 O4)\n",
      "Reduced Formula: CoTeO4\n",
      "abc   :   3.092904   5.474126  21.923746\n",
      "angles:  94.015762  90.000000  90.000000\n",
      "Sites (6)\n",
      "  #  SP      a         b         c\n",
      "---  ----  ---  --------  --------\n",
      "  0  Co    0.5  0.549991  0.049991\n",
      "  1  Te    0    0.049991  0.049991\n",
      "  2  O     0    0.751906  0.090744\n",
      "  3  O     0    0.348076  0.009238\n",
      "  4  O     0.5  0.201866  0.099982\n",
      "  5  O     0.5  0.898116  0\n",
      "Full Formula (Ta2 I4 O2)\n",
      "Reduced Formula: TaI2O\n",
      "abc   :   7.473655   3.898360  24.640567\n",
      "angles:  90.000000  87.837112  90.000000\n",
      "Sites (8)\n",
      "  #  SP            a    b          c\n",
      "---  ----  ---------  ---  ---------\n",
      "  0  Ta     0.293721  0     0.094141\n",
      "  1  Ta     0.706279  0     0.094083\n",
      "  2  I     -0.009708  0     0.171018\n",
      "  3  I      0.009708  0     0.017206\n",
      "  4  I      0.488424  0     0.188716\n",
      "  5  I      0.511576  0    -0.000492\n",
      "  6  O      0.712538  0.5   0.093953\n",
      "  7  O      0.287462  0.5   0.094271\n",
      "Full Formula (Ru1 Cl2 O1)\n",
      "Reduced Formula: RuCl2O\n",
      "abc   :   3.583924   3.693889  23.232113\n",
      "angles:  89.870096  90.000000  90.000000\n",
      "Sites (4)\n",
      "  #  SP      a        b         c\n",
      "---  ----  ---  -------  --------\n",
      "  0  Ru    0    0        0.069563\n",
      "  1  Cl    0.5  0.99926  0\n",
      "  2  Cl    0.5  0.00074  0.139125\n",
      "  3  O     0    0.5      0.069563\n",
      "Full Formula (Ti1 Nb1 S4)\n",
      "Reduced Formula: TiNbS4\n",
      "abc   :   3.385413   5.882045  23.018220\n",
      "angles:  89.741761  90.000000  90.000000\n",
      "Sites (6)\n",
      "  #  SP      a         b          c\n",
      "---  ----  ---  --------  ---------\n",
      "  0  Ti    0    1          0.934439\n",
      "  1  Nb    0.5  0.5        0.934439\n",
      "  2  S     0    0.327694  -0\n",
      "  3  S     0.5  0.161816   0.870471\n",
      "  4  S     0.5  0.838184   0.998406\n",
      "  5  S     0    0.672306   0.868877\n",
      "Full Formula (Cu1 Au1 O2)\n",
      "Reduced Formula: CuAuO2\n",
      "abc   :   2.848249   6.180400  21.092329\n",
      "angles:  98.033466  90.000000  90.000000\n",
      "Sites (4)\n",
      "  #  SP      a         b         c\n",
      "---  ----  ---  --------  --------\n",
      "  0  Cu    0.5  0         0.025894\n",
      "  1  Au    0    0.5       0.025894\n",
      "  2  O     0    0.829776  0.051788\n",
      "  3  O     0    0.170224  0\n",
      "Full Formula (Ni1 Te1 O4)\n",
      "Reduced Formula: NiTeO4\n",
      "abc   :   3.104107   5.285283  21.798178\n",
      "angles:  92.932227  90.000000  90.000000\n",
      "Sites (6)\n",
      "  #  SP      a         b          c\n",
      "---  ----  ---  --------  ---------\n",
      "  0  Ni    0.5  0.549072   0.049072\n",
      "  1  Te    0    0.049072   0.049072\n",
      "  2  O     0    0.741189   0.091683\n",
      "  3  O     0    0.356955   0.006461\n",
      "  4  O     0.5  0.212149   0.098195\n",
      "  5  O     0.5  0.885996  -5e-05\n",
      "Full Formula (Ba1 Ca1 I4)\n",
      "Reduced Formula: BaCaI4\n",
      "abc   :   4.822394   8.516667  23.696885\n",
      "angles:  89.673345  90.000000  90.000000\n",
      "Sites (6)\n",
      "  #  SP      a          b          c\n",
      "---  ----  ---  ---------  ---------\n",
      "  0  Ba    0.5  -0          0.921993\n",
      "  1  Ca    0     0.5        0.921993\n",
      "  2  I     0     0.807026  -0\n",
      "  3  I     0.5   0.357288   0.995082\n",
      "  4  I     0.5   0.642712   0.848905\n",
      "  5  I     0     0.192974   0.843987\n",
      "Full Formula (Hf1 Te1 Se4)\n",
      "Reduced Formula: HfTeSe4\n",
      "abc   :   6.835696   3.854657  23.212663\n",
      "angles:  90.000000  89.789416  90.000000\n",
      "Sites (6)\n",
      "  #  SP           a    b          c\n",
      "---  ----  --------  ---  ---------\n",
      "  0  Hf    0.5       0.5   0.069202\n",
      "  1  Te    0         0     0.069202\n",
      "  2  Se    0.658278  0     0.002236\n",
      "  3  Se    0.814422  0.5   0.138845\n",
      "  4  Se    0.185578  0.5  -0.000441\n",
      "  5  Se    0.341722  0     0.136169\n",
      "Full Formula (Zr1 Ti1 Te4)\n",
      "Reduced Formula: ZrTiTe4\n",
      "abc   :   3.882232   6.702668  23.214731\n",
      "angles:  90.000000  90.000000  90.000000\n",
      "Sites (6)\n",
      "  #  SP      a         b         c\n",
      "---  ----  ---  --------  --------\n",
      "  0  Te    0.5  0.84405   0.861522\n",
      "  1  Te    0.5  0.15595   0\n",
      "  2  Te    0    0.322716  0.861522\n",
      "  3  Te    0    0.677284  0\n",
      "  4  Ti    0    0         0.930761\n",
      "  5  Zr    0.5  0.5       0.930761\n",
      "Full Formula (Tb5 Br8)\n",
      "Reduced Formula: Tb5Br8\n",
      "abc   :   3.935156  13.764853  26.177197\n",
      "angles:  95.986142  90.000000  90.000000\n",
      "Sites (13)\n",
      "  #  SP      a         b          c\n",
      "---  ----  ---  --------  ---------\n",
      "  0  Tb    0    0.135655   0.128046\n",
      "  1  Tb    0    0.864345   0.107998\n",
      "  2  Tb    0.5  0.010442   0.0375\n",
      "  3  Tb    0.5  0.989558   0.198544\n",
      "  4  Tb    0.5  0.5        0.118022\n",
      "  5  Br    0    0.867359  -0.002382\n",
      "  6  Br    0    0.157287   0.017549\n",
      "  7  Br    0    0.132641   0.238426\n",
      "  8  Br    0.5  0.302459   0.136977\n",
      "  9  Br    0    0.842713   0.218495\n",
      " 10  Br    0.5  0.697541   0.099067\n",
      " 11  Br    0    0.532656   0.194198\n",
      " 12  Br    0    0.467344   0.041846\n",
      "Full Formula (Mn2 Sb2 Se4 I2)\n",
      "Reduced Formula: MnSbSe2I\n",
      "abc   :   3.942963  10.445858  25.578487\n",
      "angles:  88.306653  90.000000  90.000000\n",
      "Sites (10)\n",
      "  #  SP      a          b         c\n",
      "---  ----  ---  ---------  --------\n",
      "  0  Mn    0    -0         0.109213\n",
      "  1  Mn    0     0.5       0.109213\n",
      "  2  Sb    0.5   0.320977  0.21408\n",
      "  3  Sb    0.5   0.679023  0.004346\n",
      "  4  Se    0     0.249513  0.148169\n",
      "  5  Se    0     0.750487  0.070258\n",
      "  6  Se    0.5   0.447642  0.037683\n",
      "  7  Se    0.5   0.552358  0.180741\n",
      "  8  I     0.5   0.920849  0.182161\n",
      "  9  I     0.5   0.079151  0.036263\n"
     ]
    }
   ],
   "source": [
    "with MWRester() as mwr:\n",
    "    mwr.get_calculation(space_group_number = 10)\n",
    "    structure_list = mwr.as_pymatgen_struc()\n",
    "    for structure in structure_list:\n",
    "        print(structure) "
   ]
  },
  {
   "cell_type": "code",
   "execution_count": 46,
   "metadata": {},
   "outputs": [
    {
     "name": "stdout",
     "output_type": "stream",
     "text": [
      "Help on function get_calculation in module quantumml.rest:\n",
      "\n",
      "get_calculation(self, band_gap_range=None, formation_energy_range=None, elements=[], space_group_number=None, dimension=None, crystal_system=None, name=None)\n",
      "    Method to that queries materialsweb database and returns a list of dictionaries of calculations that\n",
      "    fit the querries parameters. Additionally\n",
      "    Parameters\n",
      "    ----------\n",
      "    band_gap_range : list\n",
      "    List of band gap range e.g. [min, max]\n",
      "    formation_energy_range : list\n",
      "        List of formation energy range e.g. [min, max]\n",
      "    elements : list\n",
      "    List of str of elements\n",
      "    space_group_number : int\n",
      "        space group number\n",
      "    dimension : int\n",
      "        dimension as int e.g. 1 2 3\n",
      "    crystal_system : str\n",
      "        name of crystal system\n",
      "    name : str\n",
      "        name of material e.g. MoS2\n",
      "    Returns\n",
      "    -------\n",
      "    results : list\n",
      "        List of results matching query parameters\n",
      "\n"
     ]
    }
   ],
   "source": [
    "help(MWRester.get_calculation)"
   ]
  },
  {
   "cell_type": "code",
   "execution_count": 40,
   "metadata": {},
   "outputs": [
    {
     "name": "stdout",
     "output_type": "stream",
     "text": [
      "Pd120S2\t\t\t BandGap = 1.1746 eV\t Formation Eneergy = 148.0 meV\n",
      "Ge120Se1\t\t BandGap = 1.2107 eV\t Formation Eneergy = 133.0 meV\n",
      "Pd120Se2\t\t BandGap = 1.3964 eV\t Formation Eneergy = 166.0 meV\n",
      "I220Pt1\t\t\t BandGap = 1.4215 eV\t Formation Eneergy = 135.0 meV\n",
      "I220Pd1\t\t\t BandGap = 1.1512 eV\t Formation Eneergy = 133.0 meV\n",
      "Br320Cr1\t\t BandGap = 1.4714 eV\t Formation Eneergy = 742.0 meV\n",
      "Cr120H120O2\t\t BandGap = 1.0072 eV\t Formation Eneergy = 179.0 meV\n",
      "Mo120O3\t\t\t BandGap = 1.1381 eV\t Formation Eneergy = 136.0 meV\n",
      "\n",
      " Example of Json responce\n",
      " {\n",
      "          \"attempt\": 0,\n",
      "          \"band_gap\": 1.1745999999999999,\n",
      "          \"composition\": \"http://172.16.170.227:7800/rest/composition/Pd1%20S2/\",\n",
      "          \"configuration\": null,\n",
      "          \"converged\": true,\n",
      "          \"dimension\": 2,\n",
      "          \"dos\": \"http://172.16.170.227:7800/rest/dos/29/\",\n",
      "          \"element_set\": [\n",
      "                    \"http://172.16.170.227:7800/rest/elements/Pd/\",\n",
      "                    \"http://172.16.170.227:7800/rest/elements/S/\"\n",
      "          ],\n",
      "          \"energy\": -22.07599683,\n",
      "          \"energy_pa\": -3.679332805,\n",
      "          \"entry\": \"http://172.16.170.227:7800/rest/entry/30/\",\n",
      "          \"formation_energy\": 148.0,\n",
      "          \"input\": \"http://172.16.170.227:7800/rest/structure/86/\",\n",
      "          \"irreducible_kpoints\": 25.0,\n",
      "          \"is_direct\": false,\n",
      "          \"label\": \"mp-13682\",\n",
      "          \"magmom\": -6.99e-05,\n",
      "          \"magmom_pa\": -1.165e-05,\n",
      "          \"natoms\": 6,\n",
      "          \"nsteps\": 10,\n",
      "          \"output\": \"http://172.16.170.227:7800/rest/structure/85/\",\n",
      "          \"path\": \"/var/www/materialsweb/static/database/mp-13682\",\n",
      "          \"runtime\": null,\n",
      "          \"settings\": \"{'potentials': [{'name': 'Pd', 'xc': 'PBE', 'us': False, 'paw': True}, {'name': 'S', 'xc': 'PBE', 'us': False, 'paw': True}], 'nbands': 36, 'prec': 'accura', 'istart': 0, 'icharg': 2, 'ispin': 2, 'encut': 500.0, 'nelm': 60, 'nelmin': 2, 'ediff': 1e-06, 'lreal': True, 'nsw': 50, 'ibrion': 2, 'isif': 3, 'potim': 0.5, 'pstress': 0.0, 'ismear': 1, 'sigma': 0.1, 'algo': 'fast', 'lwave': True, 'lcharg': True, 'lvtot': False, 'lorbit': 0, 'ldipol': False, 'idipol': 0, 'epsilon': 1.0}\",\n",
      "          \"url\": \"http://172.16.170.227:7800/rest/calculation/28/\"\n",
      "}\n"
     ]
    }
   ],
   "source": [
    "with MWRester() as mwr:\n",
    "    mwr.get_calculation(band_gap_range=[1,1.5], formation_energy_range=[124,150])\n",
    "    for d in mwr.results:\n",
    "        #print(d.keys())\n",
    "        if len(d['composition'].split('/')[-2].replace('%',''))< 8:\n",
    "            print(d['composition'].split('/')[-2].replace('%','')+'\\t\\t\\t BandGap = ' + \\\n",
    "                  str(round(d['band_gap'],4))+' eV\\t Formation Eneergy = ' + str(d['formation_energy'])+ ' meV')\n",
    "        elif len(d['composition'].split('/')[-2].replace('%',''))< 16:\n",
    "            print(d['composition'].split('/')[-2].replace('%','')+'\\t\\t BandGap = ' + \\\n",
    "                  str(round(d['band_gap'],4))+' eV\\t Formation Eneergy = ' + str(d['formation_energy'])+ ' meV')\n",
    "        else:\n",
    "            print(d['composition'].split('/')[-2].replace('%','')+'\\t BandGap = ' + \\\n",
    "                  str(round(d['band_gap'],4))+' eV\\t Formation Eneergy = ' + str(d['formation_energy'])+ ' meV')\n",
    "    \n",
    "    \n",
    "    print(f'\\n Example of Json responce\\n {json.dumps(mwr.results[0],sort_keys=True, indent=10)}')\n"
   ]
  },
  {
   "cell_type": "markdown",
   "metadata": {},
   "source": [
    "# Write files"
   ]
  },
  {
   "cell_type": "code",
   "execution_count": 43,
   "metadata": {},
   "outputs": [
    {
     "name": "stdout",
     "output_type": "stream",
     "text": [
      "Help on method write in module quantumml.rest:\n",
      "\n",
      "write(index=0) method of quantumml.rest.MWRester instance\n",
      "    Writes INCAR, KPOINTS, POSCAR of entry to current directory\n",
      "    \n",
      "    Parameters\n",
      "    ----------\n",
      "    index : int\n",
      "        Index of entry to write files for\n",
      "    todo: add unit test\n",
      "\n"
     ]
    }
   ],
   "source": [
    "help(MWRester().write)\n",
    "#help(mwr.write_all)"
   ]
  },
  {
   "cell_type": "code",
   "execution_count": null,
   "metadata": {},
   "outputs": [],
   "source": [
    "import os \n",
    "os.mkdir('example')\n",
    "%cd example\n",
    "mwr.write_all()\n",
    "%ls\n",
    "%cd .."
   ]
  },
  {
   "cell_type": "code",
   "execution_count": null,
   "metadata": {
    "scrolled": true
   },
   "outputs": [],
   "source": [
    "%cd ~/dev/quantumML\n",
    "%pwd"
   ]
  },
  {
   "cell_type": "code",
   "execution_count": null,
   "metadata": {},
   "outputs": [],
   "source": [
    "#Convert to list of pymatgen structures\n",
    "print(help(mwr.as_pymatgen_struc()))\n",
    "c = mwr.as_pymatgen_struc()"
   ]
  },
  {
   "cell_type": "code",
   "execution_count": null,
   "metadata": {},
   "outputs": [],
   "source": [
    "#mwr.get_symmetry_functions_g2(c[0])\n",
    "#b.get_soap(b.results[0])\n",
    "!ls"
   ]
  },
  {
   "cell_type": "markdown",
   "metadata": {},
   "source": [
    "Query materialsproject for all Cd-Te "
   ]
  },
  {
   "cell_type": "code",
   "execution_count": null,
   "metadata": {},
   "outputs": [],
   "source": [
    "!ls"
   ]
  },
  {
   "cell_type": "code",
   "execution_count": null,
   "metadata": {},
   "outputs": [],
   "source": [
    "entries = a.query('Cs',properties = ['structure','formation_energy_per_atom'])\n",
    "for b in entries:\n",
    "    b['structure'].to(fmt='poscar',filename=str(i)+'.poscar')\n",
    "    formation_e_actual.append(b['formation_energy_per_atom'])\n",
    "    i = i +1 \n",
    "entries = a.query('Sb',properties = ['structure','formation_energy_per_atom'])\n",
    "for b in entries:\n",
    "    b['structure'].to(fmt='poscar',filename=str(i)+'.poscar')\n",
    "    formation_e_actual.append(b['formation_energy_per_atom'])\n",
    "    i = i +1 "
   ]
  },
  {
   "cell_type": "markdown",
   "metadata": {},
   "source": [
    "Retreive pre-trained ML model from materialsweb"
   ]
  },
  {
   "cell_type": "code",
   "execution_count": null,
   "metadata": {},
   "outputs": [],
   "source": [
    "type(model)"
   ]
  },
  {
   "cell_type": "code",
   "execution_count": null,
   "metadata": {},
   "outputs": [],
   "source": [
    "%matplotlib inline\n",
    "import matplotlib.pyplot as plt\n",
    "\n",
    "plt.scatter(formation_e_actual, formation_e_predict, alpha=0.3)\n",
    "plt.plot([-0.4, 0.4], [-0.4, 0.4], 'k--')\n",
    "plt.axis('equal')\n",
    "plt.show()"
   ]
  },
  {
   "cell_type": "code",
   "execution_count": null,
   "metadata": {},
   "outputs": [],
   "source": [
    "!ls\n",
    "!mkdir temp"
   ]
  },
  {
   "cell_type": "code",
   "execution_count": null,
   "metadata": {},
   "outputs": [],
   "source": []
  },
  {
   "cell_type": "code",
   "execution_count": null,
   "metadata": {},
   "outputs": [],
   "source": [
    "!cd temp\n",
    "mwr.prep_ml_formation_energy(mwr.results[-1])"
   ]
  },
  {
   "cell_type": "code",
   "execution_count": null,
   "metadata": {},
   "outputs": [],
   "source": [
    "!ls"
   ]
  },
  {
   "cell_type": "code",
   "execution_count": null,
   "metadata": {},
   "outputs": [],
   "source": [
    "!cd /home/jason/dev"
   ]
  },
  {
   "cell_type": "code",
   "execution_count": null,
   "metadata": {},
   "outputs": [],
   "source": [
    "from dscribe.descriptors import SOAP\n",
    "from ase.build import molecule\n",
    "import numpy as np\n",
    "from ase.io import vasp\n",
    "structure = vasp.read_vasp('./POSCAR')\n",
    "#species = [\"H\",\"O\"]\n",
    "rcut = 6.0\n",
    "nmax = 8\n",
    "lmax = 6\n",
    "\n",
    "# Setting up the SOAP descriptor\n",
    "soap = SOAP(\n",
    "        periodic=True,\n",
    "        species=np.unique(structure.get_atomic_numbers()),\n",
    "        rcut=rcut,\n",
    "        nmax=nmax,\n",
    "        lmax=lmax,\n",
    "        rbf='gto',\n",
    "        sigma=0.125,\n",
    "        average='inner'\n",
    "    )"
   ]
  },
  {
   "cell_type": "code",
   "execution_count": null,
   "metadata": {},
   "outputs": [],
   "source": []
  },
  {
   "cell_type": "code",
   "execution_count": null,
   "metadata": {},
   "outputs": [],
   "source": [
    "descriptor = soap.create(structure)"
   ]
  },
  {
   "cell_type": "code",
   "execution_count": null,
   "metadata": {},
   "outputs": [],
   "source": [
    "from sklearn.preprocessing import StandardScaler\n",
    "descriptor = StandardScaler().fit_transform(descriptor)\n",
    "#descriptor = scaler.transform(descriptor)"
   ]
  },
  {
   "cell_type": "code",
   "execution_count": null,
   "metadata": {},
   "outputs": [],
   "source": [
    "descriptor"
   ]
  },
  {
   "cell_type": "code",
   "execution_count": null,
   "metadata": {},
   "outputs": [],
   "source": [
    "from ase.io.vasp import write_vasp\n",
    "write_vasp('POSCAR',water, ignore_constraints = True)"
   ]
  },
  {
   "cell_type": "code",
   "execution_count": null,
   "metadata": {},
   "outputs": [],
   "source": []
  }
 ],
 "metadata": {
  "kernelspec": {
   "display_name": "Python 3",
   "language": "python",
   "name": "python3"
  },
  "language_info": {
   "codemirror_mode": {
    "name": "ipython",
    "version": 3
   },
   "file_extension": ".py",
   "mimetype": "text/x-python",
   "name": "python",
   "nbconvert_exporter": "python",
   "pygments_lexer": "ipython3",
   "version": "3.7.4"
  }
 },
 "nbformat": 4,
 "nbformat_minor": 2
}
