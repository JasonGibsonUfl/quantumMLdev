{
 "cells": [
  {
   "cell_type": "code",
   "execution_count": 1,
   "metadata": {},
   "outputs": [],
   "source": [
    "from quantumml.rest import MWRester\n",
    "from pymatgen import Structure\n",
    "import json\n",
    "from quantumml.descriptors import get_soap\n",
    "from quantumml.mlModels import MLModel"
   ]
  },
  {
   "cell_type": "markdown",
   "metadata": {},
   "source": [
    "# Machine Learning\n",
    "Below is an example of using the pretrained model on unseen data from materialsproject"
   ]
  },
  {
   "cell_type": "code",
   "execution_count": 2,
   "metadata": {},
   "outputs": [],
   "source": [
    "from pymatgen import MPRester\n",
    "from pymatgen.analysis.phase_diagram import PhaseDiagram, PDPlotter\n",
    "import os\n",
    "from pymatgen.io.vasp import inputs\n",
    "os.mkdir('mldir')\n",
    "os.chdir('mldir')\n",
    "a = MPRester('7JGUQgNZyOTTp8Tc')\n",
    "entries = a.query('Cd-Te',properties = ['structure','formation_energy_per_atom'])\n",
    "#entries = a.query('Cd-Te',properties = ['formation_energy_per_atom'])\n",
    "formation_e_actual=[]\n",
    "i= 0 \n",
    "for d in entries:\n",
    "    d['structure'].to(fmt='poscar',filename=str(i)+'.poscar')\n",
    "    formation_e_actual.append(d['formation_energy_per_atom'])\n",
    "    i = i +1 "
   ]
  },
  {
   "cell_type": "code",
   "execution_count": 3,
   "metadata": {},
   "outputs": [
    {
     "name": "stdout",
     "output_type": "stream",
     "text": [
      "Prediction = -0.14410193900944912\t Acutal = -0.2763495549999999\t\n",
      "Prediction = -0.13000097198399885\t Acutal = -0.34565693333333325\t\n",
      "Prediction = -0.11422573250777979\t Acutal = 0.027823344999999833\t\n",
      "Prediction = -0.10077391664659907\t Acutal = -0.4523537375000002\t\n",
      "Prediction = -0.12349066042150114\t Acutal = -0.4582981199999998\t\n",
      "Prediction = -0.15577583518796478\t Acutal = -0.0942426300000001\t\n",
      "Prediction = -0.13374894386785285\t Acutal = -0.27434149250000006\t\n",
      "Prediction = -0.10026401866853074\t Acutal = -0.4496796275000001\t\n",
      "Prediction = -0.14057497942726105\t Acutal = 0.08023137499999988\t\n",
      "Prediction = -0.14409587563760562\t Acutal = -0.28503561499999996\t\n"
     ]
    }
   ],
   "source": [
    "formation_e_predict=[]\n",
    "model= MLModel.get_ml_model('Cd-Te')\n",
    "for i in range(0,10):\n",
    "    formation_e_predict.append(model.predict(get_soap('./'+str(i)+'.poscar',normalize = False))[0])\n",
    "for pred, act in zip(formation_e_predict, formation_e_actual):\n",
    "    print(f'Prediction = {pred}\\t Acutal = {act}\\t')"
   ]
  },
  {
   "cell_type": "markdown",
   "metadata": {},
   "source": [
    "The above example is for illistration purposes only. I believe a large portion of the error is due to differences in formation energy calculations. An additional change that will need to be implemented is a way to no the descriptor parameters for a specific model."
   ]
  },
  {
   "cell_type": "markdown",
   "metadata": {},
   "source": [
    "# How the ML models are made"
   ]
  },
  {
   "cell_type": "code",
   "execution_count": 4,
   "metadata": {},
   "outputs": [],
   "source": [
    "%matplotlib inline\n",
    "import os\n",
    "import multiprocessing\n",
    "\n",
    "import scipy\n",
    "import numpy as np\n",
    "import pandas as pd\n",
    "\n",
    "from sklearn.preprocessing import StandardScaler\n",
    "from sklearn.model_selection import RandomizedSearchCV as CV\n",
    "\n",
    "from pymatgen.io.vasp import Poscar\n",
    "from pymatgen.io.ase import AseAtomsAdaptor\n",
    "\n",
    "from ase.visualize import view\n",
    "from sklearn.svm import SVR"
   ]
  },
  {
   "cell_type": "code",
   "execution_count": 5,
   "metadata": {},
   "outputs": [],
   "source": [
    "#from thundersvm import SVR # much faster with GPU support\n",
    "\n",
    "def tw(iterable, **kwargs):\n",
    "    \"Add a progress bar using tqdm if available\"\n",
    "    try:\n",
    "        import tqdm\n",
    "        tqdm.tqdm._instances.clear()\n",
    "        # clear existing instances\n",
    "    except AttributeError:\n",
    "        pass\n",
    "    try:\n",
    "        return tqdm.tqdm_notebook(iterable, **kwargs)\n",
    "    except NameError:\n",
    "        return iterable  # could not import tqdm"
   ]
  },
  {
   "cell_type": "markdown",
   "metadata": {},
   "source": [
    "# Set up (basic settings here)\n",
    "CdTe dataset is available at https://materialsweb.org/docs . click on the CdTe tab\n",
    "\n",
    "Big picture:\n",
    "1) Parse structure and energy files\n",
    "\n",
    "2) Generate representations\n",
    "\n",
    "3) Optimize and fit models with support vector regression/"
   ]
  },
  {
   "cell_type": "code",
   "execution_count": 8,
   "metadata": {},
   "outputs": [],
   "source": [
    "n_cores = 3  # number of cores to use for multiprocessing.\n",
    "### uncomment the following line to use all available cores\n",
    "#n_cores = multiprocessing.cpu_count()"
   ]
  },
  {
   "cell_type": "code",
   "execution_count": 9,
   "metadata": {},
   "outputs": [
    {
     "name": "stdout",
     "output_type": "stream",
     "text": [
      "/home/jason/dev/qml/quantumml/mldir\r\n"
     ]
    }
   ],
   "source": [
    "!pwd"
   ]
  },
  {
   "cell_type": "code",
   "execution_count": 10,
   "metadata": {},
   "outputs": [],
   "source": [
    "# directory of POSCARs and energy files\n",
    "working_directory = '.'\n",
    "directory_path = \"/home/jason/dev/molssi/CdTe_Archive\" #Path to data\n",
    "\n",
    "structure_ext = 'poscar'  #file extension names\n",
    "target_ext = 'energy'\n",
    "\n",
    "element_list = ['Cd', 'Te']  # list of elements to consider"
   ]
  },
  {
   "cell_type": "markdown",
   "metadata": {},
   "source": [
    "# File Parsing"
   ]
  },
  {
   "cell_type": "code",
   "execution_count": 11,
   "metadata": {},
   "outputs": [
    {
     "data": {
      "application/vnd.jupyter.widget-view+json": {
       "model_id": "f2a6499c70594db89be02210fb600434",
       "version_major": 2,
       "version_minor": 0
      },
      "text/plain": [
       "HBox(children=(IntProgress(value=0, max=4673), HTML(value='')))"
      ]
     },
     "metadata": {},
     "output_type": "display_data"
    },
    {
     "name": "stdout",
     "output_type": "stream",
     "text": [
      "\n"
     ]
    }
   ],
   "source": [
    "def process_entry(args):\n",
    "    \"\"\"parse files\"\"\"\n",
    "    entry_name, element_list, directory_path, structure_ext, target_ext = args\n",
    "    target_file = '{}/{}.{}'.format(directory_path,\n",
    "                                    entry_name,\n",
    "                                    target_ext)\n",
    "    with open(target_file) as f:\n",
    "        lines = f.read().splitlines()\n",
    "    local_energies = [float(line) for line in lines]\n",
    "    # This dataset has per-atom energies but we won't use them\n",
    "    energy = np.sum(local_energies)\n",
    "    \n",
    "    structure_file = '{}/{}.{}'.format(directory_path,\n",
    "                                       entry_name,\n",
    "                                       structure_ext)\n",
    "    structure = Poscar.from_file(structure_file).structure\n",
    "    entry_data = [len(structure), energy]\n",
    "    for element in element_list:\n",
    "        element_percent = structure.composition.get_atomic_fraction(element)\n",
    "        entry_data.append(element_percent)\n",
    "    return structure, entry_data\n",
    "\n",
    "file_stems = [os.path.splitext(f)[0]\n",
    "              for f in os.listdir(directory_path) \n",
    "              if structure_ext in f]\n",
    "# check the working directory for files matching the ext\n",
    "\n",
    "columns = ['Size', 'Total Energy'] + element_list  # pandas header\n",
    "\n",
    "# prepare zipped arguments for parallel parsing\n",
    "zipped_args = [(f, element_list, directory_path, structure_ext, target_ext)\n",
    "               for f in file_stems]\n",
    "parsed_data = list(tw(multiprocessing.Pool(n_cores).imap(process_entry,\n",
    "                                                         zipped_args),\n",
    "                      total=len(zipped_args)))"
   ]
  },
  {
   "cell_type": "code",
   "execution_count": 12,
   "metadata": {},
   "outputs": [],
   "source": [
    "# unpack parallel parsing results\n",
    "structure_list, table_data = zip(*parsed_data)\n",
    "structures = {k: v for k, v in zip(file_stems, structure_list)}\n",
    "df = pd.DataFrame(columns=columns, data=table_data, index=file_stems)"
   ]
  },
  {
   "cell_type": "markdown",
   "metadata": {},
   "source": [
    "# Get Reference Energies\n",
    "While learning on total energies is desirable in some scenarios, we often want to predict formation energy per atom to compare relative stabilities. Here, we normalize the total energy of each structure by the reference energies. These are the lowest-energy elemental structures in the dataset."
   ]
  },
  {
   "cell_type": "code",
   "execution_count": 13,
   "metadata": {},
   "outputs": [
    {
     "data": {
      "text/plain": [
       "{'Cd': -1.16003, 'Te': -2.23009}"
      ]
     },
     "execution_count": 13,
     "metadata": {},
     "output_type": "execute_result"
    }
   ],
   "source": [
    "reference_energies = {}\n",
    "for element in element_list:\n",
    "    pure_entries = df[df[element] == 1.0]\n",
    "    pure_entry_energies = pure_entries['Total Energy'].values\n",
    "    pure_entry_energies /= pure_entries['Size'].values\n",
    "    minimum_energy = np.min(pure_entry_energies)\n",
    "    reference_energies[element] = minimum_energy\n",
    "reference_energies"
   ]
  },
  {
   "cell_type": "markdown",
   "metadata": {},
   "source": [
    "# Compute Formation Energies"
   ]
  },
  {
   "cell_type": "code",
   "execution_count": 14,
   "metadata": {},
   "outputs": [],
   "source": [
    "def get_formation_energy(entry_data, element_list, reference_energies):\n",
    "    element_fractions = {element: entry_data[element] \n",
    "                         for element in element_list}\n",
    "    reference_contributions = [(reference_energies[element] \n",
    "                               * element_fractions[element])\n",
    "                               for element in element_list]\n",
    "    formation_energy = (entry_data['Total Energy']/entry_data['Size'] \n",
    "                        - np.sum(reference_contributions))\n",
    "    return formation_energy\n",
    "\n",
    "df['Formation Energy'] = df.apply(get_formation_energy, axis=1, \n",
    "                                  args=(element_list, reference_energies))"
   ]
  },
  {
   "cell_type": "code",
   "execution_count": 15,
   "metadata": {},
   "outputs": [
    {
     "data": {
      "text/html": [
       "<div>\n",
       "<style scoped>\n",
       "    .dataframe tbody tr th:only-of-type {\n",
       "        vertical-align: middle;\n",
       "    }\n",
       "\n",
       "    .dataframe tbody tr th {\n",
       "        vertical-align: top;\n",
       "    }\n",
       "\n",
       "    .dataframe thead th {\n",
       "        text-align: right;\n",
       "    }\n",
       "</style>\n",
       "<table border=\"1\" class=\"dataframe\">\n",
       "  <thead>\n",
       "    <tr style=\"text-align: right;\">\n",
       "      <th></th>\n",
       "      <th>Size</th>\n",
       "      <th>Total Energy</th>\n",
       "      <th>Cd</th>\n",
       "      <th>Te</th>\n",
       "      <th>Formation Energy</th>\n",
       "    </tr>\n",
       "  </thead>\n",
       "  <tbody>\n",
       "    <tr>\n",
       "      <td>9395</td>\n",
       "      <td>15</td>\n",
       "      <td>-30.037490</td>\n",
       "      <td>0.200000</td>\n",
       "      <td>0.800000</td>\n",
       "      <td>0.013579</td>\n",
       "    </tr>\n",
       "    <tr>\n",
       "      <td>1422</td>\n",
       "      <td>12</td>\n",
       "      <td>-14.895270</td>\n",
       "      <td>0.833333</td>\n",
       "      <td>0.166667</td>\n",
       "      <td>0.097101</td>\n",
       "    </tr>\n",
       "    <tr>\n",
       "      <td>1263</td>\n",
       "      <td>8</td>\n",
       "      <td>-8.134844</td>\n",
       "      <td>1.000000</td>\n",
       "      <td>0.000000</td>\n",
       "      <td>0.143174</td>\n",
       "    </tr>\n",
       "    <tr>\n",
       "      <td>8155</td>\n",
       "      <td>7</td>\n",
       "      <td>-13.182630</td>\n",
       "      <td>0.285714</td>\n",
       "      <td>0.714286</td>\n",
       "      <td>0.041126</td>\n",
       "    </tr>\n",
       "    <tr>\n",
       "      <td>2082</td>\n",
       "      <td>14</td>\n",
       "      <td>-15.616162</td>\n",
       "      <td>0.928571</td>\n",
       "      <td>0.071429</td>\n",
       "      <td>0.121023</td>\n",
       "    </tr>\n",
       "  </tbody>\n",
       "</table>\n",
       "</div>"
      ],
      "text/plain": [
       "      Size  Total Energy        Cd        Te  Formation Energy\n",
       "9395    15    -30.037490  0.200000  0.800000          0.013579\n",
       "1422    12    -14.895270  0.833333  0.166667          0.097101\n",
       "1263     8     -8.134844  1.000000  0.000000          0.143174\n",
       "8155     7    -13.182630  0.285714  0.714286          0.041126\n",
       "2082    14    -15.616162  0.928571  0.071429          0.121023"
      ]
     },
     "execution_count": 15,
     "metadata": {},
     "output_type": "execute_result"
    }
   ],
   "source": [
    "df.head()"
   ]
  },
  {
   "cell_type": "markdown",
   "metadata": {},
   "source": [
    "# Set up DSCRIBE's SOAP Handler\n",
    "The Smooth Overlap of Atomic Positions representation is a well-established method for capturing atomic environments for machine learning. It has few hyperparameters, and the default choices here are reasonable for many systems."
   ]
  },
  {
   "cell_type": "code",
   "execution_count": 16,
   "metadata": {},
   "outputs": [],
   "source": [
    "from dscribe.descriptors import SOAP\n",
    "rcut = 6  # maximum pairwise distance to consider. \n",
    "# Stick to the second or third nearest-neighbor distance.\n",
    "\n",
    "# maximum degree and orders to calculation in spherical harmonics power-series solution\n",
    "nmax = 6\n",
    "lmax = 8\n",
    "\n",
    "# Setting up the SOAP descriptor\n",
    "soap = SOAP(species=element_list,\n",
    "            periodic=True,\n",
    "            rcut=rcut,\n",
    "            nmax=nmax,\n",
    "            lmax=lmax,\n",
    "            rbf='gto',\n",
    "            sigma=0.125,\n",
    "            average='inner')"
   ]
  },
  {
   "cell_type": "code",
   "execution_count": 18,
   "metadata": {},
   "outputs": [],
   "source": [
    "adaptor = AseAtomsAdaptor()\n",
    "entry_names = sorted(structures.keys())\n",
    "flattened_entry_list = [(adaptor.get_atoms(structures[entry_name]))\n",
    "                        for entry_name in entry_names]"
   ]
  },
  {
   "cell_type": "code",
   "execution_count": 19,
   "metadata": {},
   "outputs": [],
   "source": [
    "soap_raw = soap.create(flattened_entry_list, n_jobs=n_cores)\n",
    "data = pd.DataFrame(data=soap_raw, index=entry_names,columns=['SOAP_{}'.format(i) for i in range(len(soap_raw[0]))])"
   ]
  },
  {
   "cell_type": "markdown",
   "metadata": {},
   "source": [
    "# Visualizing SOAP"
   ]
  },
  {
   "cell_type": "code",
   "execution_count": 20,
   "metadata": {},
   "outputs": [
    {
     "data": {
      "image/png": "[encoded data removed]",
      "text/plain": [
       "<Figure size 432x288 with 1 Axes>"
      ]
     },
     "metadata": {
      "needs_background": "light"
     },
     "output_type": "display_data"
    }
   ],
   "source": [
    "import matplotlib.pyplot as plt\n",
    "for i in range(50):\n",
    "    plt.plot(np.arange(len(soap_raw[0])), data.iloc[i])\n",
    "plt.xlabel('Representation Index')\n",
    "plt.ylabel('Value (arbitrary units)')\n",
    "plt.show()"
   ]
  },
  {
   "cell_type": "markdown",
   "metadata": {},
   "source": [
    "# Data Splitting"
   ]
  },
  {
   "cell_type": "code",
   "execution_count": 21,
   "metadata": {},
   "outputs": [
    {
     "name": "stdout",
     "output_type": "stream",
     "text": [
      "(3738, 702)\n",
      "(3738,)\n",
      "(935, 702)\n",
      "(935,)\n"
     ]
    }
   ],
   "source": [
    "shuffled_names = list(entry_names)\n",
    "np.random.shuffle(shuffled_names)\n",
    "training_fraction = 0.8\n",
    "n_train = int(len(df) * training_fraction)\n",
    "training_names = shuffled_names[:n_train]\n",
    "testing_names = shuffled_names[n_train:]\n",
    "training_inputs = data.loc[training_names].values\n",
    "print(training_inputs.shape)\n",
    "training_outputs = df.loc[training_names]['Formation Energy']\n",
    "print(training_outputs.shape)\n",
    "testing_inputs = data.loc[testing_names].values\n",
    "print(testing_inputs.shape)\n",
    "testing_outputs = df.loc[testing_names]['Formation Energy']\n",
    "print(testing_outputs.shape)"
   ]
  },
  {
   "cell_type": "markdown",
   "metadata": {},
   "source": [
    "# Machine Learning"
   ]
  },
  {
   "cell_type": "code",
   "execution_count": 22,
   "metadata": {},
   "outputs": [
    {
     "name": "stdout",
     "output_type": "stream",
     "text": [
      "0.05631257769660664\n"
     ]
    }
   ],
   "source": [
    "model = SVR().fit(training_inputs, training_outputs)\n",
    "testing_predictions = model.predict(testing_inputs)\n",
    "print(np.sqrt(np.mean(np.subtract(testing_predictions, testing_outputs)**2)))"
   ]
  },
  {
   "cell_type": "code",
   "execution_count": 23,
   "metadata": {},
   "outputs": [
    {
     "data": {
      "image/png": "[encoded data removed]",
      "text/plain": [
       "<Figure size 432x288 with 1 Axes>"
      ]
     },
     "metadata": {
      "needs_background": "light"
     },
     "output_type": "display_data"
    }
   ],
   "source": [
    "plt.scatter(testing_predictions, testing_outputs, alpha=0.2)\n",
    "plt.plot([-0.4, 1], [-0.4, 1], 'k--')\n",
    "plt.axis('equal')\n",
    "plt.show()\n",
    "import pickle\n",
    "pickle.dump(model,open('Cd-Te.sav','wb'))"
   ]
  },
  {
   "cell_type": "markdown",
   "metadata": {},
   "source": [
    "# Normalizing Representations\n",
    "Often, it is helpful to normalize the inputs for machine learning. Earlier, we observed that the ranges across different features in the representation can vary dramatically. Here, we normalize all 702 features independently such that they are centered at 0 and have a variance of 1. This is not always necessary, depending on the representation chosen. It does not appear to help with SOAP."
   ]
  },
  {
   "cell_type": "code",
   "execution_count": 26,
   "metadata": {
    "scrolled": true
   },
   "outputs": [],
   "source": [
    "from sklearn.preprocessing import StandardScaler\n",
    "scaler = StandardScaler().fit(training_inputs)\n",
    "training_inputs = scaler.transform(training_inputs)\n",
    "testing_inputs = scaler.transform(testing_inputs)\n",
    "### If we use normalized data representation for the quantumml we will need to store the scaler model"
   ]
  },
  {
   "cell_type": "code",
   "execution_count": 28,
   "metadata": {},
   "outputs": [
    {
     "data": {
      "image/png": "[encoded data removed]",
      "text/plain": [
       "<Figure size 432x288 with 1 Axes>"
      ]
     },
     "metadata": {
      "needs_background": "light"
     },
     "output_type": "display_data"
    }
   ],
   "source": [
    "for i in range(50):\n",
    "    plt.plot(np.arange(len(soap_raw[0])), training_inputs[i])\n",
    "plt.xlabel('Representation Index')\n",
    "plt.ylabel('Value (arbitrary units)')\n",
    "plt.show()"
   ]
  },
  {
   "cell_type": "code",
   "execution_count": 29,
   "metadata": {},
   "outputs": [
    {
     "name": "stdout",
     "output_type": "stream",
     "text": [
      "0.056242614639686134\n"
     ]
    }
   ],
   "source": [
    "model = SVR().fit(training_inputs, training_outputs)\n",
    "testing_predictions = model.predict(testing_inputs)\n",
    "rms = (np.sqrt(np.mean(np.subtract(testing_predictions, testing_outputs)**2)))\n",
    "print(rms)"
   ]
  },
  {
   "cell_type": "code",
   "execution_count": 30,
   "metadata": {},
   "outputs": [
    {
     "data": {
      "text/plain": [
       "Text(0.5, 1.0, 'CdTe')"
      ]
     },
     "execution_count": 30,
     "metadata": {},
     "output_type": "execute_result"
    },
    {
     "data": {
      "image/png": "[encoded data removed]",
      "text/plain": [
       "<Figure size 432x288 with 1 Axes>"
      ]
     },
     "metadata": {
      "needs_background": "light"
     },
     "output_type": "display_data"
    }
   ],
   "source": [
    "plt.scatter(testing_predictions, testing_outputs, alpha=0.2)\n",
    "plt.plot([-2, 25], [-2, 25], 'k--')\n",
    "#plt.axis('equal')\n",
    "axes = plt.gca()\n",
    "xmin = -.5\n",
    "ymin = xmin\n",
    "xmax = .5\n",
    "ymax = xmax\n",
    "axes.set_xlim([xmin,xmax])\n",
    "axes.set_ylim([ymin,ymax])\n",
    "plt.title('CdTe')"
   ]
  },
  {
   "cell_type": "markdown",
   "metadata": {},
   "source": [
    "# Random search to select best hyperparameters\n",
    "Almost every machine learning algorithm is associated with hyperparameters -- parameters that are not optimized by the algorithm itself, like weights. Examples include the choice of and options associated with representations, depth of the neural network, and regularization strength in various solvers. Here, we optimize Gamma and C, which are hyperparameters of support vector regression.\n",
    "\n",
    "The C parameter trades off misclassification of training examples against simplicity of the model.\n",
    "\n",
    "Gamma defines an overall scale factor for the support vector machine's notion of distance between two points."
   ]
  },
  {
   "cell_type": "code",
   "execution_count": 34,
   "metadata": {},
   "outputs": [
    {
     "name": "stdout",
     "output_type": "stream",
     "text": [
      "{'C': 10.178185975575827, 'gamma': 0.0010725922536294929, 'kernel': 'rbf'}\n",
      "CPU times: user 1.01 s, sys: 578 ms, total: 1.58 s\n",
      "Wall time: 1min 35s\n"
     ]
    }
   ],
   "source": [
    "%%time\n",
    "cScale = 4  # scale for exponential distribution\n",
    "gScale = 0.01  # scale for exponential distribution\n",
    "n_iter = 15  # number of iterations for random search. Realistically ~100\n",
    "    \n",
    "param_dist = {'C': scipy.stats.expon(scale=cScale), \n",
    "              'gamma': scipy.stats.expon(scale=gScale), \n",
    "              'kernel': ['rbf']}\n",
    "\n",
    "# using random search cross validation to select best hyperparameters,\n",
    "# performing 5-fold cross validation\n",
    "cv = CV(SVR(), \n",
    "        param_distributions=param_dist, \n",
    "        cv=5, \n",
    "        scoring='neg_mean_squared_error', \n",
    "        n_iter=n_iter, \n",
    "        n_jobs=n_cores, \n",
    "        refit=False) \n",
    "\n",
    "search=cv.fit(training_inputs, training_outputs) #trains the model using training set alone\n",
    "\n",
    "C = search.best_params_['C']\n",
    "gamma = search.best_params_['gamma']\n",
    "print(search.best_params_)"
   ]
  },
  {
   "cell_type": "code",
   "execution_count": 35,
   "metadata": {},
   "outputs": [
    {
     "name": "stdout",
     "output_type": "stream",
     "text": [
      "0.05285696757225154\n"
     ]
    }
   ],
   "source": [
    "model = SVR(C=C, gamma=gamma)\n",
    "model.fit(training_inputs, training_outputs)\n",
    "testing_predictions = model.predict(testing_inputs)\n",
    "rms = (np.sqrt(np.mean(np.subtract(testing_predictions, testing_outputs)**2)))\n",
    "print(rms)"
   ]
  },
  {
   "cell_type": "code",
   "execution_count": 36,
   "metadata": {},
   "outputs": [
    {
     "data": {
      "text/plain": [
       "Text(0.5, 1.0, 'CdTe')"
      ]
     },
     "execution_count": 36,
     "metadata": {},
     "output_type": "execute_result"
    },
    {
     "data": {
      "image/png": "[encoded data removed]",
      "text/plain": [
       "<Figure size 432x288 with 1 Axes>"
      ]
     },
     "metadata": {
      "needs_background": "light"
     },
     "output_type": "display_data"
    }
   ],
   "source": [
    "plt.scatter(testing_predictions, testing_outputs, alpha=0.2)\n",
    "plt.plot([-12, 40], [-12, 40], 'k--')\n",
    "#plt.axis('equal')\n",
    "axes = plt.gca()\n",
    "xmin = -1\n",
    "ymin = xmin\n",
    "xmax = 1\n",
    "ymax = xmax\n",
    "axes.set_xlim([xmin,xmax])\n",
    "axes.set_ylim([ymin,ymax])\n",
    "plt.title('CdTe')"
   ]
  },
  {
   "cell_type": "markdown",
   "metadata": {},
   "source": [
    "# Other feature of quantumml\n",
    "below I will describe some of the other current features of quantumml\n",
    "\n",
    "# Queries\n",
    "\n",
    "This shows an example of how to utilize the MWRester class to access materialsweb calculations\n",
    "- **band_gap_range**  \n",
    "Range of bandgaps in *eV* as a two valued list eg. [1.2, 3.1]  \n",
    "- **Formation_energy_range**  \n",
    "Range of formation energies in *meV* as two values list eg. [50, 150]\n",
    "- **elements**  \n",
    "List of elements contained in entry eg. ['Na', 'Cl']  \n",
    "note: this will return all entries that contain Na and Cl as well as any other element \n",
    "- **space_group_number**  \n",
    "integer of space group number eg. 5\n",
    "- **dimention**  \n",
    "integer of dimension of material eg. 2\n",
    "- **crystal_system**  \n",
    "crystal system as a string eg. 'Tetragonal'  \n"
   ]
  },
  {
   "cell_type": "code",
   "execution_count": 45,
   "metadata": {},
   "outputs": [
    {
     "name": "stdout",
     "output_type": "stream",
     "text": [
      "Full Formula (Cu1 Te1 O4)\n",
      "Reduced Formula: CuTeO4\n",
      "abc   :   2.996064   6.078667  22.548377\n",
      "angles:  93.195975  90.000000  90.000000\n",
      "Sites (6)\n",
      "  #  SP      a         b         c\n",
      "---  ----  ---  --------  --------\n",
      "  0  Cu    0    0         0.056509\n",
      "  1  Te    0.5  0.5       0.056509\n",
      "  2  O     0.5  0.814202  0.078196\n",
      "  3  O     0.5  0.185798  0.034822\n",
      "  4  O     0    0.457734  0.112871\n",
      "  5  O     0    0.542266  0.000147\n",
      "Full Formula (La4 C2 Cl5)\n",
      "Reduced Formula: La4C2Cl5\n",
      "abc   :   3.979734   7.976692  26.022557\n",
      "angles:  89.992903  89.999698  89.998247\n",
      "Sites (11)\n",
      "  #  SP           a         b         c\n",
      "---  ----  --------  --------  --------\n",
      "  0  La    0.99999   0.99998   0\n",
      "  1  La    0.500012  0.213028  0.115718\n",
      "  2  La    0.499988  0.786972  0.115718\n",
      "  3  La    1e-05     2e-05     0.231436\n",
      "  4  C     0.999917  0.999935  0.088386\n",
      "  5  C     8.3e-05   6.5e-05   0.14305\n",
      "  6  Cl    0.499996  0.272206  0.002774\n",
      "  7  Cl    0.49998   0.727766  0.00277\n",
      "  8  Cl    0         0.5       0.115718\n",
      "  9  Cl    0.50002   0.272234  0.228666\n",
      " 10  Cl    0.500004  0.727794  0.228662\n",
      "Full Formula (Mn1 Au1 O2)\n",
      "Reduced Formula: MnAuO2\n",
      "abc   :   2.872074   6.362885  20.586753\n",
      "angles:  93.769243  90.000000  90.000000\n",
      "Sites (4)\n",
      "  #  SP      a         b         c\n",
      "---  ----  ---  --------  --------\n",
      "  0  Mn    0.5  0.527048  0.027048\n",
      "  1  Au    0    0.027048  0.027048\n",
      "  2  O     0    0.338355  0.008253\n",
      "  3  O     0    0.71574   0.045842\n",
      "Full Formula (Cd2 Bi2 Se4 I2)\n",
      "Reduced Formula: CdBiSe2I\n",
      "abc   :   4.120303  10.691057  25.975493\n",
      "angles:  88.221985  90.000000  90.000000\n",
      "Sites (10)\n",
      "  #  SP      a         b          c\n",
      "---  ----  ---  --------  ---------\n",
      "  0  Cd    0    0.5        0.884988\n",
      "  1  Cd    0    0          0.884988\n",
      "  2  Bi    0.5  0.319661  -0.005079\n",
      "  3  Bi    0.5  0.680339   0.775055\n",
      "  4  Se    0.5  0.554864   0.961525\n",
      "  5  Se    0.5  0.445136   0.808451\n",
      "  6  Se    0    0.251899   0.929997\n",
      "  7  Se    0    0.748101   0.839979\n",
      "  8  I     0.5  0.078121   0.809919\n",
      "  9  I     0.5  0.921879   0.960057\n",
      "Full Formula (Os1 Cl2 O1)\n",
      "Reduced Formula: OsCl2O\n",
      "abc   :   3.630733   3.722344  23.168495\n",
      "angles:  89.964413  90.000000  90.000000\n",
      "Sites (4)\n",
      "  #  SP      a         b         c\n",
      "---  ----  ---  --------  --------\n",
      "  0  Os    0    0         0.06838\n",
      "  1  Cl    0.5  0.999796  0\n",
      "  2  Cl    0.5  0.000204  0.136758\n",
      "  3  O     0    0.5       0.06838\n",
      "Full Formula (Au2 Se2)\n",
      "Reduced Formula: AuSe\n",
      "abc   :   3.748245   6.448553  22.535743\n",
      "angles:  95.767136  90.000000  90.000000\n",
      "Sites (4)\n",
      "  #  SP      a         b         c\n",
      "---  ----  ---  --------  --------\n",
      "  0  Au    0.5  0.5       0.05626\n",
      "  1  Au    0    0         0.05626\n",
      "  2  Se    0    0.344418  0.112521\n",
      "  3  Se    0    0.655582  0\n",
      "Full Formula (Ca1 Pb1 I4)\n",
      "Reduced Formula: CaPbI4\n",
      "abc   :   4.552049   7.896952  23.654206\n",
      "angles:  89.830491  90.000000  90.000000\n",
      "Sites (6)\n",
      "  #  SP      a         b         c\n",
      "---  ----  ---  --------  --------\n",
      "  0  Ca    0.5  0.5       0.922757\n",
      "  1  Pb    0    0         0.922757\n",
      "  2  I     0    0.341184  0.998361\n",
      "  3  I     0.5  0.82362   0.000718\n",
      "  4  I     0.5  0.17638   0.844796\n",
      "  5  I     0    0.658816  0.847153\n",
      "Full Formula (Sn1 F4)\n",
      "Reduced Formula: SnF4\n",
      "abc   :   4.146795   4.146786  23.818259\n",
      "angles:  90.000000  89.959820  90.000000\n",
      "Sites (5)\n",
      "  #  SP           a    b         c\n",
      "---  ----  --------  ---  --------\n",
      "  0  Sn    0         0    0.080154\n",
      "  1  F     0.000355  0    0.159921\n",
      "  2  F     0.5       0    0.080154\n",
      "  3  F     0         0.5  0.080154\n",
      "  4  F     0.999645  0    0.000387\n",
      "Full Formula (Co1 Te1 O4)\n",
      "Reduced Formula: CoTeO4\n",
      "abc   :   3.092904   5.474126  21.923746\n",
      "angles:  94.015762  90.000000  90.000000\n",
      "Sites (6)\n",
      "  #  SP      a         b         c\n",
      "---  ----  ---  --------  --------\n",
      "  0  Co    0.5  0.549991  0.049991\n",
      "  1  Te    0    0.049991  0.049991\n",
      "  2  O     0    0.751906  0.090744\n",
      "  3  O     0    0.348076  0.009238\n",
      "  4  O     0.5  0.201866  0.099982\n",
      "  5  O     0.5  0.898116  0\n",
      "Full Formula (Ta2 I4 O2)\n",
      "Reduced Formula: TaI2O\n",
      "abc   :   7.473655   3.898360  24.640567\n",
      "angles:  90.000000  87.837112  90.000000\n",
      "Sites (8)\n",
      "  #  SP            a    b          c\n",
      "---  ----  ---------  ---  ---------\n",
      "  0  Ta     0.293721  0     0.094141\n",
      "  1  Ta     0.706279  0     0.094083\n",
      "  2  I     -0.009708  0     0.171018\n",
      "  3  I      0.009708  0     0.017206\n",
      "  4  I      0.488424  0     0.188716\n",
      "  5  I      0.511576  0    -0.000492\n",
      "  6  O      0.712538  0.5   0.093953\n",
      "  7  O      0.287462  0.5   0.094271\n",
      "Full Formula (Ru1 Cl2 O1)\n",
      "Reduced Formula: RuCl2O\n",
      "abc   :   3.583924   3.693889  23.232113\n",
      "angles:  89.870096  90.000000  90.000000\n",
      "Sites (4)\n",
      "  #  SP      a        b         c\n",
      "---  ----  ---  -------  --------\n",
      "  0  Ru    0    0        0.069563\n",
      "  1  Cl    0.5  0.99926  0\n",
      "  2  Cl    0.5  0.00074  0.139125\n",
      "  3  O     0    0.5      0.069563\n",
      "Full Formula (Ti1 Nb1 S4)\n",
      "Reduced Formula: TiNbS4\n",
      "abc   :   3.385413   5.882045  23.018220\n",
      "angles:  89.741761  90.000000  90.000000\n",
      "Sites (6)\n",
      "  #  SP      a         b          c\n",
      "---  ----  ---  --------  ---------\n",
      "  0  Ti    0    1          0.934439\n",
      "  1  Nb    0.5  0.5        0.934439\n",
      "  2  S     0    0.327694  -0\n",
      "  3  S     0.5  0.161816   0.870471\n",
      "  4  S     0.5  0.838184   0.998406\n",
      "  5  S     0    0.672306   0.868877\n",
      "Full Formula (Cu1 Au1 O2)\n",
      "Reduced Formula: CuAuO2\n",
      "abc   :   2.848249   6.180400  21.092329\n",
      "angles:  98.033466  90.000000  90.000000\n",
      "Sites (4)\n",
      "  #  SP      a         b         c\n",
      "---  ----  ---  --------  --------\n",
      "  0  Cu    0.5  0         0.025894\n",
      "  1  Au    0    0.5       0.025894\n",
      "  2  O     0    0.829776  0.051788\n",
      "  3  O     0    0.170224  0\n",
      "Full Formula (Ni1 Te1 O4)\n",
      "Reduced Formula: NiTeO4\n",
      "abc   :   3.104107   5.285283  21.798178\n",
      "angles:  92.932227  90.000000  90.000000\n",
      "Sites (6)\n",
      "  #  SP      a         b          c\n",
      "---  ----  ---  --------  ---------\n",
      "  0  Ni    0.5  0.549072   0.049072\n",
      "  1  Te    0    0.049072   0.049072\n",
      "  2  O     0    0.741189   0.091683\n",
      "  3  O     0    0.356955   0.006461\n",
      "  4  O     0.5  0.212149   0.098195\n",
      "  5  O     0.5  0.885996  -5e-05\n",
      "Full Formula (Ba1 Ca1 I4)\n",
      "Reduced Formula: BaCaI4\n",
      "abc   :   4.822394   8.516667  23.696885\n",
      "angles:  89.673345  90.000000  90.000000\n",
      "Sites (6)\n",
      "  #  SP      a          b          c\n",
      "---  ----  ---  ---------  ---------\n",
      "  0  Ba    0.5  -0          0.921993\n",
      "  1  Ca    0     0.5        0.921993\n",
      "  2  I     0     0.807026  -0\n",
      "  3  I     0.5   0.357288   0.995082\n",
      "  4  I     0.5   0.642712   0.848905\n",
      "  5  I     0     0.192974   0.843987\n",
      "Full Formula (Hf1 Te1 Se4)\n",
      "Reduced Formula: HfTeSe4\n",
      "abc   :   6.835696   3.854657  23.212663\n",
      "angles:  90.000000  89.789416  90.000000\n",
      "Sites (6)\n",
      "  #  SP           a    b          c\n",
      "---  ----  --------  ---  ---------\n",
      "  0  Hf    0.5       0.5   0.069202\n",
      "  1  Te    0         0     0.069202\n",
      "  2  Se    0.658278  0     0.002236\n",
      "  3  Se    0.814422  0.5   0.138845\n",
      "  4  Se    0.185578  0.5  -0.000441\n",
      "  5  Se    0.341722  0     0.136169\n",
      "Full Formula (Zr1 Ti1 Te4)\n",
      "Reduced Formula: ZrTiTe4\n",
      "abc   :   3.882232   6.702668  23.214731\n",
      "angles:  90.000000  90.000000  90.000000\n",
      "Sites (6)\n",
      "  #  SP      a         b         c\n",
      "---  ----  ---  --------  --------\n",
      "  0  Te    0.5  0.84405   0.861522\n",
      "  1  Te    0.5  0.15595   0\n",
      "  2  Te    0    0.322716  0.861522\n",
      "  3  Te    0    0.677284  0\n",
      "  4  Ti    0    0         0.930761\n",
      "  5  Zr    0.5  0.5       0.930761\n",
      "Full Formula (Tb5 Br8)\n",
      "Reduced Formula: Tb5Br8\n",
      "abc   :   3.935156  13.764853  26.177197\n",
      "angles:  95.986142  90.000000  90.000000\n",
      "Sites (13)\n",
      "  #  SP      a         b          c\n",
      "---  ----  ---  --------  ---------\n",
      "  0  Tb    0    0.135655   0.128046\n",
      "  1  Tb    0    0.864345   0.107998\n",
      "  2  Tb    0.5  0.010442   0.0375\n",
      "  3  Tb    0.5  0.989558   0.198544\n",
      "  4  Tb    0.5  0.5        0.118022\n",
      "  5  Br    0    0.867359  -0.002382\n",
      "  6  Br    0    0.157287   0.017549\n",
      "  7  Br    0    0.132641   0.238426\n",
      "  8  Br    0.5  0.302459   0.136977\n",
      "  9  Br    0    0.842713   0.218495\n",
      " 10  Br    0.5  0.697541   0.099067\n",
      " 11  Br    0    0.532656   0.194198\n",
      " 12  Br    0    0.467344   0.041846\n",
      "Full Formula (Mn2 Sb2 Se4 I2)\n",
      "Reduced Formula: MnSbSe2I\n",
      "abc   :   3.942963  10.445858  25.578487\n",
      "angles:  88.306653  90.000000  90.000000\n",
      "Sites (10)\n",
      "  #  SP      a          b         c\n",
      "---  ----  ---  ---------  --------\n",
      "  0  Mn    0    -0         0.109213\n",
      "  1  Mn    0     0.5       0.109213\n",
      "  2  Sb    0.5   0.320977  0.21408\n",
      "  3  Sb    0.5   0.679023  0.004346\n",
      "  4  Se    0     0.249513  0.148169\n",
      "  5  Se    0     0.750487  0.070258\n",
      "  6  Se    0.5   0.447642  0.037683\n",
      "  7  Se    0.5   0.552358  0.180741\n",
      "  8  I     0.5   0.920849  0.182161\n",
      "  9  I     0.5   0.079151  0.036263\n"
     ]
    }
   ],
   "source": [
    "with MWRester() as mwr:\n",
    "    mwr.get_calculation(space_group_number = 10)\n",
    "    structure_list = mwr.as_pymatgen_struc()\n",
    "    for structure in structure_list:\n",
    "        print(structure) "
   ]
  },
  {
   "cell_type": "code",
   "execution_count": 46,
   "metadata": {},
   "outputs": [
    {
     "name": "stdout",
     "output_type": "stream",
     "text": [
      "Help on function get_calculation in module quantumml.rest:\n",
      "\n",
      "get_calculation(self, band_gap_range=None, formation_energy_range=None, elements=[], space_group_number=None, dimension=None, crystal_system=None, name=None)\n",
      "    Method to that queries materialsweb database and returns a list of dictionaries of calculations that\n",
      "    fit the querries parameters. Additionally\n",
      "    Parameters\n",
      "    ----------\n",
      "    band_gap_range : list\n",
      "    List of band gap range e.g. [min, max]\n",
      "    formation_energy_range : list\n",
      "        List of formation energy range e.g. [min, max]\n",
      "    elements : list\n",
      "    List of str of elements\n",
      "    space_group_number : int\n",
      "        space group number\n",
      "    dimension : int\n",
      "        dimension as int e.g. 1 2 3\n",
      "    crystal_system : str\n",
      "        name of crystal system\n",
      "    name : str\n",
      "        name of material e.g. MoS2\n",
      "    Returns\n",
      "    -------\n",
      "    results : list\n",
      "        List of results matching query parameters\n",
      "\n"
     ]
    }
   ],
   "source": [
    "help(MWRester.get_calculation)"
   ]
  },
  {
   "cell_type": "code",
   "execution_count": 40,
   "metadata": {},
   "outputs": [
    {
     "name": "stdout",
     "output_type": "stream",
     "text": [
      "Pd120S2\t\t\t BandGap = 1.1746 eV\t Formation Eneergy = 148.0 meV\n",
      "Ge120Se1\t\t BandGap = 1.2107 eV\t Formation Eneergy = 133.0 meV\n",
      "Pd120Se2\t\t BandGap = 1.3964 eV\t Formation Eneergy = 166.0 meV\n",
      "I220Pt1\t\t\t BandGap = 1.4215 eV\t Formation Eneergy = 135.0 meV\n",
      "I220Pd1\t\t\t BandGap = 1.1512 eV\t Formation Eneergy = 133.0 meV\n",
      "Br320Cr1\t\t BandGap = 1.4714 eV\t Formation Eneergy = 742.0 meV\n",
      "Cr120H120O2\t\t BandGap = 1.0072 eV\t Formation Eneergy = 179.0 meV\n",
      "Mo120O3\t\t\t BandGap = 1.1381 eV\t Formation Eneergy = 136.0 meV\n",
      "\n",
      " Example of Json responce\n",
      " {\n",
      "          \"attempt\": 0,\n",
      "          \"band_gap\": 1.1745999999999999,\n",
      "          \"composition\": \"http://172.16.170.227:7800/rest/composition/Pd1%20S2/\",\n",
      "          \"configuration\": null,\n",
      "          \"converged\": true,\n",
      "          \"dimension\": 2,\n",
      "          \"dos\": \"http://172.16.170.227:7800/rest/dos/29/\",\n",
      "          \"element_set\": [\n",
      "                    \"http://172.16.170.227:7800/rest/elements/Pd/\",\n",
      "                    \"http://172.16.170.227:7800/rest/elements/S/\"\n",
      "          ],\n",
      "          \"energy\": -22.07599683,\n",
      "          \"energy_pa\": -3.679332805,\n",
      "          \"entry\": \"http://172.16.170.227:7800/rest/entry/30/\",\n",
      "          \"formation_energy\": 148.0,\n",
      "          \"input\": \"http://172.16.170.227:7800/rest/structure/86/\",\n",
      "          \"irreducible_kpoints\": 25.0,\n",
      "          \"is_direct\": false,\n",
      "          \"label\": \"mp-13682\",\n",
      "          \"magmom\": -6.99e-05,\n",
      "          \"magmom_pa\": -1.165e-05,\n",
      "          \"natoms\": 6,\n",
      "          \"nsteps\": 10,\n",
      "          \"output\": \"http://172.16.170.227:7800/rest/structure/85/\",\n",
      "          \"path\": \"/var/www/materialsweb/static/database/mp-13682\",\n",
      "          \"runtime\": null,\n",
      "          \"settings\": \"{'potentials': [{'name': 'Pd', 'xc': 'PBE', 'us': False, 'paw': True}, {'name': 'S', 'xc': 'PBE', 'us': False, 'paw': True}], 'nbands': 36, 'prec': 'accura', 'istart': 0, 'icharg': 2, 'ispin': 2, 'encut': 500.0, 'nelm': 60, 'nelmin': 2, 'ediff': 1e-06, 'lreal': True, 'nsw': 50, 'ibrion': 2, 'isif': 3, 'potim': 0.5, 'pstress': 0.0, 'ismear': 1, 'sigma': 0.1, 'algo': 'fast', 'lwave': True, 'lcharg': True, 'lvtot': False, 'lorbit': 0, 'ldipol': False, 'idipol': 0, 'epsilon': 1.0}\",\n",
      "          \"url\": \"http://172.16.170.227:7800/rest/calculation/28/\"\n",
      "}\n"
     ]
    }
   ],
   "source": [
    "with MWRester() as mwr:\n",
    "    mwr.get_calculation(band_gap_range=[1,1.5], formation_energy_range=[124,150])\n",
    "    for d in mwr.results:\n",
    "        #print(d.keys())\n",
    "        if len(d['composition'].split('/')[-2].replace('%',''))< 8:\n",
    "            print(d['composition'].split('/')[-2].replace('%','')+'\\t\\t\\t BandGap = ' + \\\n",
    "                  str(round(d['band_gap'],4))+' eV\\t Formation Eneergy = ' + str(d['formation_energy'])+ ' meV')\n",
    "        elif len(d['composition'].split('/')[-2].replace('%',''))< 16:\n",
    "            print(d['composition'].split('/')[-2].replace('%','')+'\\t\\t BandGap = ' + \\\n",
    "                  str(round(d['band_gap'],4))+' eV\\t Formation Eneergy = ' + str(d['formation_energy'])+ ' meV')\n",
    "        else:\n",
    "            print(d['composition'].split('/')[-2].replace('%','')+'\\t BandGap = ' + \\\n",
    "                  str(round(d['band_gap'],4))+' eV\\t Formation Eneergy = ' + str(d['formation_energy'])+ ' meV')\n",
    "    \n",
    "    \n",
    "    print(f'\\n Example of Json responce\\n {json.dumps(mwr.results[0],sort_keys=True, indent=10)}')\n"
   ]
  },
  {
   "cell_type": "markdown",
   "metadata": {},
   "source": [
    "Example of http responce for current calculations"
   ]
  },
  {
   "cell_type": "code",
   "execution_count": 31,
   "metadata": {},
   "outputs": [
    {
     "name": "stdout",
     "output_type": "stream",
     "text": [
      "\u001b[34mHTTP\u001b[39;49;00m/\u001b[34m1.1\u001b[39;49;00m \u001b[34m200\u001b[39;49;00m \u001b[36mOK\u001b[39;49;00m\r\n",
      "\u001b[36mAllow\u001b[39;49;00m: \u001b[33mGET\u001b[39;49;00m\r\n",
      "\u001b[36mConnection\u001b[39;49;00m: \u001b[33mclose\u001b[39;49;00m\r\n",
      "\u001b[36mContent-Encoding\u001b[39;49;00m: \u001b[33mgzip\u001b[39;49;00m\r\n",
      "\u001b[36mContent-Length\u001b[39;49;00m: \u001b[33m614\u001b[39;49;00m\r\n",
      "\u001b[36mContent-Type\u001b[39;49;00m: \u001b[33mapplication/json\u001b[39;49;00m\r\n",
      "\u001b[36mDate\u001b[39;49;00m: \u001b[33mFri, 12 Feb 2021 20:12:00 GMT\u001b[39;49;00m\r\n",
      "\u001b[36mServer\u001b[39;49;00m: \u001b[33mApache\u001b[39;49;00m\r\n",
      "\u001b[36mVary\u001b[39;49;00m: \u001b[33mAccept,Cookie,Accept-Encoding\u001b[39;49;00m\r\n",
      "\u001b[36mVia\u001b[39;49;00m: \u001b[33m1.1 materialsweb.org\u001b[39;49;00m\r\n",
      "\u001b[36mX-Frame-Options\u001b[39;49;00m: \u001b[33mSAMEORIGIN\u001b[39;49;00m\r",
      "\r\n",
      "\r",
      "\r\n",
      "{\r\n",
      "    \u001b[34;01m\"attempt\"\u001b[39;49;00m: \u001b[34m0\u001b[39;49;00m,\r\n",
      "    \u001b[34;01m\"band_gap\"\u001b[39;49;00m: \u001b[34m1.1745999999999999\u001b[39;49;00m,\r\n",
      "    \u001b[34;01m\"composition\"\u001b[39;49;00m: \u001b[33m\"http://172.16.170.227:7800/rest/composition/Pd1%20S2/\"\u001b[39;49;00m,\r\n",
      "    \u001b[34;01m\"configuration\"\u001b[39;49;00m: \u001b[34mnull\u001b[39;49;00m,\r\n",
      "    \u001b[34;01m\"converged\"\u001b[39;49;00m: \u001b[34mtrue\u001b[39;49;00m,\r\n",
      "    \u001b[34;01m\"dimension\"\u001b[39;49;00m: \u001b[34m2\u001b[39;49;00m,\r\n",
      "    \u001b[34;01m\"dos\"\u001b[39;49;00m: \u001b[33m\"http://172.16.170.227:7800/rest/dos/29/\"\u001b[39;49;00m,\r\n",
      "    \u001b[34;01m\"element_set\"\u001b[39;49;00m: [\r\n",
      "        \u001b[33m\"http://172.16.170.227:7800/rest/elements/Pd/\"\u001b[39;49;00m,\r\n",
      "        \u001b[33m\"http://172.16.170.227:7800/rest/elements/S/\"\u001b[39;49;00m\r\n",
      "    ],\r\n",
      "    \u001b[34;01m\"energy\"\u001b[39;49;00m: \u001b[34m-22.07599683\u001b[39;49;00m,\r\n",
      "    \u001b[34;01m\"energy_pa\"\u001b[39;49;00m: \u001b[34m-3.679332805\u001b[39;49;00m,\r\n",
      "    \u001b[34;01m\"entry\"\u001b[39;49;00m: \u001b[33m\"http://172.16.170.227:7800/rest/entry/30/\"\u001b[39;49;00m,\r\n",
      "    \u001b[34;01m\"formation_energy\"\u001b[39;49;00m: \u001b[34m148.0\u001b[39;49;00m,\r\n",
      "    \u001b[34;01m\"input\"\u001b[39;49;00m: \u001b[33m\"http://172.16.170.227:7800/rest/structure/86/\"\u001b[39;49;00m,\r\n",
      "    \u001b[34;01m\"irreducible_kpoints\"\u001b[39;49;00m: \u001b[34m25.0\u001b[39;49;00m,\r\n",
      "    \u001b[34;01m\"is_direct\"\u001b[39;49;00m: \u001b[34mfalse\u001b[39;49;00m,\r\n",
      "    \u001b[34;01m\"label\"\u001b[39;49;00m: \u001b[33m\"mp-13682\"\u001b[39;49;00m,\r\n",
      "    \u001b[34;01m\"magmom\"\u001b[39;49;00m: \u001b[34m-6.99e-05\u001b[39;49;00m,\r\n",
      "    \u001b[34;01m\"magmom_pa\"\u001b[39;49;00m: \u001b[34m-1.165e-05\u001b[39;49;00m,\r\n",
      "    \u001b[34;01m\"natoms\"\u001b[39;49;00m: \u001b[34m6\u001b[39;49;00m,\r\n",
      "    \u001b[34;01m\"nsteps\"\u001b[39;49;00m: \u001b[34m10\u001b[39;49;00m,\r\n",
      "    \u001b[34;01m\"output\"\u001b[39;49;00m: \u001b[33m\"http://172.16.170.227:7800/rest/structure/85/\"\u001b[39;49;00m,\r\n",
      "    \u001b[34;01m\"path\"\u001b[39;49;00m: \u001b[33m\"/var/www/materialsweb/static/database/mp-13682\"\u001b[39;49;00m,\r\n",
      "    \u001b[34;01m\"runtime\"\u001b[39;49;00m: \u001b[34mnull\u001b[39;49;00m,\r\n",
      "    \u001b[34;01m\"settings\"\u001b[39;49;00m: \u001b[33m\"{'potentials': [{'name': 'Pd', 'xc': 'PBE', 'us': False, 'paw': True}, {'name': 'S', 'xc': 'PBE', 'us': False, 'paw': True}], 'nbands': 36, 'prec': 'accura', 'istart': 0, 'icharg': 2, 'ispin': 2, 'encut': 500.0, 'nelm': 60, 'nelmin': 2, 'ediff': 1e-06, 'lreal': True, 'nsw': 50, 'ibrion': 2, 'isif': 3, 'potim': 0.5, 'pstress': 0.0, 'ismear': 1, 'sigma': 0.1, 'algo': 'fast', 'lwave': True, 'lcharg': True, 'lvtot': False, 'lorbit': 0, 'ldipol': False, 'idipol': 0, 'epsilon': 1.0}\"\u001b[39;49;00m,\r\n",
      "    \u001b[34;01m\"url\"\u001b[39;49;00m: \u001b[33m\"http://172.16.170.227:7800/rest/calculation/28/\"\u001b[39;49;00m\r\n",
      "}\r\n",
      "\r\n"
     ]
    }
   ],
   "source": [
    "!http https://materialsweb.org/rest/calculation/28/"
   ]
  },
  {
   "cell_type": "markdown",
   "metadata": {},
   "source": [
    "# Write files\n",
    "This Portion is not complete"
   ]
  },
  {
   "cell_type": "code",
   "execution_count": 43,
   "metadata": {},
   "outputs": [
    {
     "name": "stdout",
     "output_type": "stream",
     "text": [
      "Help on method write in module quantumml.rest:\n",
      "\n",
      "write(index=0) method of quantumml.rest.MWRester instance\n",
      "    Writes INCAR, KPOINTS, POSCAR of entry to current directory\n",
      "    \n",
      "    Parameters\n",
      "    ----------\n",
      "    index : int\n",
      "        Index of entry to write files for\n",
      "    todo: add unit test\n",
      "\n"
     ]
    }
   ],
   "source": [
    "help(MWRester().write)\n",
    "#help(mwr.write_all)"
   ]
  },
  {
   "cell_type": "code",
   "execution_count": null,
   "metadata": {},
   "outputs": [],
   "source": [
    "import os \n",
    "os.mkdir('example')\n",
    "%cd example\n",
    "mwr.write_all()\n",
    "%ls\n",
    "%cd .."
   ]
  },
  {
   "cell_type": "code",
   "execution_count": null,
   "metadata": {
    "scrolled": true
   },
   "outputs": [],
   "source": [
    "%cd ~/dev/quantumML\n",
    "%pwd"
   ]
  },
  {
   "cell_type": "code",
   "execution_count": null,
   "metadata": {},
   "outputs": [],
   "source": [
    "#Convert to list of pymatgen structures\n",
    "print(help(mwr.as_pymatgen_struc()))\n",
    "c = mwr.as_pymatgen_struc()"
   ]
  }
 ],
 "metadata": {
  "kernelspec": {
   "display_name": "Python 3",
   "language": "python",
   "name": "python3"
  },
  "language_info": {
   "codemirror_mode": {
    "name": "ipython",
    "version": 3
   },
   "file_extension": ".py",
   "mimetype": "text/x-python",
   "name": "python",
   "nbconvert_exporter": "python",
   "pygments_lexer": "ipython3",
   "version": "3.7.4"
  }
 },
 "nbformat": 4,
 "nbformat_minor": 2
}
