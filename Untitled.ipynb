{
 "cells": [
  {
   "cell_type": "code",
   "execution_count": 1,
   "id": "4ff9ee50",
   "metadata": {},
   "outputs": [],
   "source": [
    "from quantumml.rest import MLRester\n",
    "from quantumml.models.UF3 import UFCC"
   ]
  },
  {
   "cell_type": "code",
   "execution_count": 2,
   "id": "af8f5ce0",
   "metadata": {},
   "outputs": [
    {
     "name": "stdout",
     "output_type": "stream",
     "text": [
      "{('As', 'As'): array([1. , 1. , 1. , 1. , 1.2, 1.4, 1.6, 1.8, 2. , 2.2, 2.4, 2.6, 2.8,\n",
      "       3. , 3.2, 3.4, 3.6, 3.8, 4. , 4.2, 4.4, 4.6, 4.8, 5. , 5.2, 5.4,\n",
      "       5.6, 5.8, 6. , 6. , 6. , 6. ]), ('K', 'As'): array([1.  , 1.  , 1.  , 1.  , 1.18, 1.36, 1.54, 1.72, 1.9 , 2.08, 2.26,\n",
      "       2.44, 2.62, 2.8 , 2.98, 3.16, 3.34, 3.52, 3.7 , 3.88, 4.06, 4.24,\n",
      "       4.42, 4.6 , 4.78, 4.96, 5.14, 5.32, 5.5 , 5.5 , 5.5 , 5.5 ]), ('K', 'K'): array([1.  , 1.  , 1.  , 1.  , 1.16, 1.32, 1.48, 1.64, 1.8 , 1.96, 2.12,\n",
      "       2.28, 2.44, 2.6 , 2.76, 2.92, 3.08, 3.24, 3.4 , 3.56, 3.72, 3.88,\n",
      "       4.04, 4.2 , 4.36, 4.52, 4.68, 4.84, 5.  , 5.  , 5.  , 5.  ])}\n"
     ]
    }
   ],
   "source": [
    "ufc = UFCC.rebuild(['K','As'])"
   ]
  },
  {
   "cell_type": "code",
   "execution_count": 3,
   "id": "349513ce",
   "metadata": {},
   "outputs": [
    {
     "data": {
      "text/plain": [
       "<uf3.regression.least_squares.WeightedLinearModel at 0x7f05ba5c3f50>"
      ]
     },
     "execution_count": 3,
     "metadata": {},
     "output_type": "execute_result"
    }
   ],
   "source": [
    "ufc"
   ]
  },
  {
   "cell_type": "code",
   "execution_count": 3,
   "id": "ac91f5f9",
   "metadata": {},
   "outputs": [
    {
     "data": {
      "text/plain": [
       "{'url': 'http://127.0.0.1:8000/rest/UFCC/2/',\n",
       " 'model_data': '{\"coefficients\": {\"K\": -0.110427, \"As\": 1.07931, \"(\\'As\\', \\'As\\')\": [18.6516, 23.9314, 26.3988, 16.6456, 3.74114, 2.53595, -1.38814, -3.39835, -1.88414, -1.4378, -0.735902, -0.350488, -0.395117, -0.160115, -0.131479, -0.0283092, -0.0116784, -0.0296953, -0.0412838, 0.0521551, 0.0494708, 0.0062683, -0.0162389, 0.0425434, -0.0141267, 0.0152009, -0.0240224, 0.0], \"(\\'K\\', \\'As\\')\": [100.469, 157.64, 285.856, 483.437, 601.578, -150.837, 193.813, -59.0218, 11.5308, 12.0797, -3.34418, 1.10562, -0.57226, -0.515855, -0.32745, -0.256294, -0.224583, -0.192825, -0.0844752, -0.0378289, -0.0327983, -0.137813, -0.00919613, 0.00334526, 0.0313358, 0.032174, 0.0475335, 0.0], \"(\\'K\\', \\'K\\')\": [-0.18749, -0.33753, -0.750203, -1.72583, -3.94046, -8.82227, -19.1934, -40.0322, -78.0594, -134.34, -168.385, 39.1018, -3.52273, 1.93536, -0.74939, 0.0141634, -0.291201, -0.193579, -0.0836627, -0.21413, -0.136304, -0.12512, -0.169278, -0.100781, -0.0317506, -0.145818, -0.125519, 0.0]}, \"knots\": {\"(\\'As\\', \\'As\\')\": [1.0, 1.0, 1.0, 1.0, 1.2, 1.4, 1.6, 1.8, 2.0, 2.2, 2.4, 2.6, 2.8, 3.0, 3.2, 3.4, 3.6, 3.8, 4.0, 4.2, 4.4, 4.6, 4.8, 5.0, 5.2, 5.4, 5.6, 5.8, 6.0, 6.0, 6.0, 6.0], \"(\\'K\\', \\'As\\')\": [1.0, 1.0, 1.0, 1.0, 1.18, 1.36, 1.54, 1.72, 1.9, 2.08, 2.26, 2.44, 2.62, 2.8, 2.98, 3.16, 3.34, 3.52, 3.7, 3.88, 4.06, 4.24, 4.42, 4.6, 4.78, 4.96, 5.14, 5.32, 5.5, 5.5, 5.5, 5.5], \"(\\'K\\', \\'K\\')\": [1.0, 1.0, 1.0, 1.0, 1.16, 1.32, 1.48, 1.64, 1.8, 1.96, 2.12, 2.28, 2.44, 2.6, 2.76, 2.92, 3.08, 3.24, 3.4, 3.56, 3.72, 3.88, 4.04, 4.2, 4.36, 4.52, 4.68, 4.84, 5.0, 5.0, 5.0, 5.0]}}',\n",
       " 'degree': 2,\n",
       " 'element_list': ['http://127.0.0.1:8000/rest/Element/1/',\n",
       "  'http://127.0.0.1:8000/rest/Element/2/']}"
      ]
     },
     "execution_count": 3,
     "metadata": {},
     "output_type": "execute_result"
    }
   ],
   "source": [
    "query[-1]"
   ]
  },
  {
   "cell_type": "code",
   "execution_count": 6,
   "id": "01b74e1c",
   "metadata": {},
   "outputs": [],
   "source": [
    "from uf3.util import json_io\n",
    "import os\n",
    "from uf3.util import user_config"
   ]
  },
  {
   "cell_type": "code",
   "execution_count": 8,
   "id": "c98755da",
   "metadata": {
    "collapsed": true
   },
   "outputs": [],
   "source": [
    "settings_filename = \"settings.yaml\"\n",
    "\n",
    "settings = user_config.read_config(settings_filename)\n",
    "\n",
    "output_directory = settings['output_directory']\n",
    "\n",
    "model_filename = settings['model_filename']\n",
    "\n",
    "filename = os.path.join(output_directory, model_filename)\n",
    "\n",
    "model_data = json_io.load_interaction_map(filename)\n",
    "\n",
    "coefficients = model_data['coefficients']\n",
    "knots_map = model_data['knots']\n"
   ]
  },
  {
   "cell_type": "code",
   "execution_count": 14,
   "id": "0f7c6637",
   "metadata": {},
   "outputs": [
    {
     "data": {
      "text/plain": [
       "dict_keys(['K', 'As', ('As', 'As'), ('K', 'As'), ('K', 'K')])"
      ]
     },
     "execution_count": 14,
     "metadata": {},
     "output_type": "execute_result"
    }
   ],
   "source": [
    "coefficients.keys()"
   ]
  },
  {
   "cell_type": "code",
   "execution_count": 13,
   "id": "453643cf",
   "metadata": {},
   "outputs": [
    {
     "data": {
      "text/plain": [
       "array([1. , 1. , 1. , 1. , 1.2, 1.4, 1.6, 1.8, 2. , 2.2, 2.4, 2.6, 2.8,\n",
       "       3. , 3.2, 3.4, 3.6, 3.8, 4. , 4.2, 4.4, 4.6, 4.8, 5. , 5.2, 5.4,\n",
       "       5.6, 5.8, 6. , 6. , 6. , 6. ])"
      ]
     },
     "execution_count": 13,
     "metadata": {},
     "output_type": "execute_result"
    }
   ],
   "source": [
    "knots_map[('As', 'As')]"
   ]
  },
  {
   "cell_type": "code",
   "execution_count": 15,
   "id": "1f1f36e4",
   "metadata": {},
   "outputs": [
    {
     "data": {
      "text/plain": [
       "-0.110427"
      ]
     },
     "execution_count": 15,
     "metadata": {},
     "output_type": "execute_result"
    }
   ],
   "source": [
    "coefficients['K']"
   ]
  },
  {
   "cell_type": "code",
   "execution_count": 16,
   "id": "89f48f60",
   "metadata": {},
   "outputs": [
    {
     "data": {
      "text/plain": [
       "array([-1.87490e-01, -3.37530e-01, -7.50203e-01, -1.72583e+00,\n",
       "       -3.94046e+00, -8.82227e+00, -1.91934e+01, -4.00322e+01,\n",
       "       -7.80594e+01, -1.34340e+02, -1.68385e+02,  3.91018e+01,\n",
       "       -3.52273e+00,  1.93536e+00, -7.49390e-01,  1.41634e-02,\n",
       "       -2.91201e-01, -1.93579e-01, -8.36627e-02, -2.14130e-01,\n",
       "       -1.36304e-01, -1.25120e-01, -1.69278e-01, -1.00781e-01,\n",
       "       -3.17506e-02, -1.45818e-01, -1.25519e-01,  0.00000e+00])"
      ]
     },
     "execution_count": 16,
     "metadata": {},
     "output_type": "execute_result"
    }
   ],
   "source": [
    "coefficients[('K','K')]"
   ]
  },
  {
   "cell_type": "code",
   "execution_count": 8,
   "id": "ee936a14",
   "metadata": {},
   "outputs": [
    {
     "ename": "NameError",
     "evalue": "name 'coefficients' is not defined",
     "output_type": "error",
     "traceback": [
      "\u001b[0;31m---------------------------------------------------------------------------\u001b[0m",
      "\u001b[0;31mNameError\u001b[0m                                 Traceback (most recent call last)",
      "\u001b[0;32m<ipython-input-8-2072accb7e11>\u001b[0m in \u001b[0;36m<module>\u001b[0;34m\u001b[0m\n\u001b[1;32m      1\u001b[0m \u001b[0mnew_dict\u001b[0m \u001b[0;34m=\u001b[0m \u001b[0;34m{\u001b[0m\u001b[0;34m}\u001b[0m\u001b[0;34m\u001b[0m\u001b[0;34m\u001b[0m\u001b[0m\n\u001b[0;32m----> 2\u001b[0;31m \u001b[0;32mfor\u001b[0m \u001b[0mkey\u001b[0m \u001b[0;32min\u001b[0m \u001b[0mcoefficients\u001b[0m\u001b[0;34m.\u001b[0m\u001b[0mkeys\u001b[0m\u001b[0;34m(\u001b[0m\u001b[0;34m)\u001b[0m\u001b[0;34m:\u001b[0m\u001b[0;34m\u001b[0m\u001b[0;34m\u001b[0m\u001b[0m\n\u001b[0m\u001b[1;32m      3\u001b[0m     \u001b[0mnew_dict\u001b[0m\u001b[0;34m[\u001b[0m\u001b[0mstr\u001b[0m\u001b[0;34m(\u001b[0m\u001b[0mkey\u001b[0m\u001b[0;34m)\u001b[0m\u001b[0;34m]\u001b[0m \u001b[0;34m=\u001b[0m \u001b[0mcoefficients\u001b[0m\u001b[0;34m[\u001b[0m\u001b[0mkey\u001b[0m\u001b[0;34m]\u001b[0m\u001b[0;34m\u001b[0m\u001b[0;34m\u001b[0m\u001b[0m\n",
      "\u001b[0;31mNameError\u001b[0m: name 'coefficients' is not defined"
     ]
    }
   ],
   "source": [
    "new_dict = {}\n",
    "for key in coefficients.keys():\n",
    "    new_dict[str(key)] = coefficients[key]"
   ]
  },
  {
   "cell_type": "code",
   "execution_count": 6,
   "id": "6e3d6158",
   "metadata": {},
   "outputs": [
    {
     "data": {
      "text/plain": [
       "{}"
      ]
     },
     "execution_count": 6,
     "metadata": {},
     "output_type": "execute_result"
    }
   ],
   "source": [
    "new_dict"
   ]
  },
  {
   "cell_type": "code",
   "execution_count": 22,
   "id": "5bde5e35",
   "metadata": {},
   "outputs": [
    {
     "name": "stdout",
     "output_type": "stream",
     "text": [
      "coefficients\n",
      "knots\n"
     ]
    }
   ],
   "source": [
    "for key in model_data.keys():\n",
    "    print(key)"
   ]
  },
  {
   "cell_type": "code",
   "execution_count": 5,
   "id": "6978224d",
   "metadata": {},
   "outputs": [],
   "source": [
    "import ast\n",
    "for key in new_dict.keys():\n",
    "    if len(key)>2:\n",
    "        print(tuple(key.strip(\")\").strip(\"(\").replace(\"'\",'').replace(\",\").split()))"
   ]
  },
  {
   "cell_type": "code",
   "execution_count": null,
   "id": "84b15b8b",
   "metadata": {},
   "outputs": [],
   "source": []
  }
 ],
 "metadata": {
  "kernelspec": {
   "display_name": "Python 3",
   "language": "python",
   "name": "python3"
  },
  "language_info": {
   "codemirror_mode": {
    "name": "ipython",
    "version": 3
   },
   "file_extension": ".py",
   "mimetype": "text/x-python",
   "name": "python",
   "nbconvert_exporter": "python",
   "pygments_lexer": "ipython3",
   "version": "3.7.10"
  }
 },
 "nbformat": 4,
 "nbformat_minor": 5
}
